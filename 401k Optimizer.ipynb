{
 "cells": [
  {
   "cell_type": "markdown",
   "metadata": {},
   "source": [
    "# Optimize 401(k)"
   ]
  },
  {
   "cell_type": "markdown",
   "metadata": {},
   "source": [
    "This client's portfolio balance was $1.16M. They came to me to use a service I had developed called Optimize 401(k) - a 21-point review for retirement investments.\n",
    "\n",
    "One feature of this service was reviewing the combined asset allocation, and the asset classes within each account.\n",
    "\n",
    "This notebook is an example of Exploratory Data Analysis (EDA) of the existing investments, followed by constructing a new portfolio (if necessary). I've analyzed hundreds of portfolios. It's very rare to see one that couldn't use some type of improvement. When they don't, it's usually someone who had been listening to my talk show for years and already followed all of my advice.\n",
    "\n",
    "Let's get to it...\n",
    "\n",
    "### Why Use Python?\n",
    "Every firm has their own proprietary re-balancers. Most of them are abysmal. And they tend to use the brokers own funds, which limits the options available. At the end of the day, most planners end up with their own Excel spreadsheets and a financial calculator. No client wants to (or should) look at Excel files. This notebook has cool charts that anyone can grasp."
   ]
  },
  {
   "cell_type": "code",
   "execution_count": 7,
   "metadata": {},
   "outputs": [],
   "source": [
    "# Standard python imports\n",
    "import pandas as pd\n",
    "import numpy as np\n",
    "import yfinance as yf\n",
    "import matplotlib.pyplot as plt"
   ]
  },
  {
   "cell_type": "markdown",
   "metadata": {},
   "source": [
    "# Client Data\n",
    "\n",
    "This is a real dataset from a client, including the investments, allocation, and balances. There is no personally identifying information."
   ]
  },
  {
   "cell_type": "code",
   "execution_count": 8,
   "metadata": {},
   "outputs": [
    {
     "data": {
      "text/html": [
       "<div>\n",
       "<style scoped>\n",
       "    .dataframe tbody tr th:only-of-type {\n",
       "        vertical-align: middle;\n",
       "    }\n",
       "\n",
       "    .dataframe tbody tr th {\n",
       "        vertical-align: top;\n",
       "    }\n",
       "\n",
       "    .dataframe thead th {\n",
       "        text-align: right;\n",
       "    }\n",
       "</style>\n",
       "<table border=\"1\" class=\"dataframe\">\n",
       "  <thead>\n",
       "    <tr style=\"text-align: right;\">\n",
       "      <th></th>\n",
       "      <th>Account Type</th>\n",
       "      <th>Owner</th>\n",
       "      <th>Ticker</th>\n",
       "      <th>Asset Class</th>\n",
       "      <th>Desc</th>\n",
       "      <th>QTY</th>\n",
       "      <th>Balance</th>\n",
       "      <th>Portfolio</th>\n",
       "    </tr>\n",
       "  </thead>\n",
       "  <tbody>\n",
       "    <tr>\n",
       "      <th>0</th>\n",
       "      <td>IRA</td>\n",
       "      <td>Husband</td>\n",
       "      <td>VIMAX</td>\n",
       "      <td>Stock</td>\n",
       "      <td>Vanguard Mid-Cap Index Fund Admiral</td>\n",
       "      <td>141</td>\n",
       "      <td>43336</td>\n",
       "      <td>Portfolio</td>\n",
       "    </tr>\n",
       "    <tr>\n",
       "      <th>1</th>\n",
       "      <td>IRA</td>\n",
       "      <td>Husband</td>\n",
       "      <td>VBTLX</td>\n",
       "      <td>Bond</td>\n",
       "      <td>Vanguard Total Bond Market Index Fund Admiral</td>\n",
       "      <td>6410</td>\n",
       "      <td>72762</td>\n",
       "      <td>Portfolio</td>\n",
       "    </tr>\n",
       "    <tr>\n",
       "      <th>2</th>\n",
       "      <td>IRA</td>\n",
       "      <td>Husband</td>\n",
       "      <td>VTABX</td>\n",
       "      <td>Bond</td>\n",
       "      <td>Vanguard Total International Bond Index Fund A...</td>\n",
       "      <td>3161</td>\n",
       "      <td>72628</td>\n",
       "      <td>Portfolio</td>\n",
       "    </tr>\n",
       "    <tr>\n",
       "      <th>3</th>\n",
       "      <td>IRA</td>\n",
       "      <td>Husband</td>\n",
       "      <td>VTIAX</td>\n",
       "      <td>Stock</td>\n",
       "      <td>Vanguard Total International Stock Index Fund ...</td>\n",
       "      <td>2244</td>\n",
       "      <td>80743</td>\n",
       "      <td>Portfolio</td>\n",
       "    </tr>\n",
       "    <tr>\n",
       "      <th>4</th>\n",
       "      <td>IRA</td>\n",
       "      <td>Husband</td>\n",
       "      <td>VTSAX</td>\n",
       "      <td>Stock</td>\n",
       "      <td>Vanguard Total Stock Market Index Fund Admiral</td>\n",
       "      <td>670</td>\n",
       "      <td>76137</td>\n",
       "      <td>Portfolio</td>\n",
       "    </tr>\n",
       "  </tbody>\n",
       "</table>\n",
       "</div>"
      ],
      "text/plain": [
       "  Account Type    Owner Ticker Asset Class  \\\n",
       "0          IRA  Husband  VIMAX       Stock   \n",
       "1          IRA  Husband  VBTLX        Bond   \n",
       "2          IRA  Husband  VTABX        Bond   \n",
       "3          IRA  Husband  VTIAX       Stock   \n",
       "4          IRA  Husband  VTSAX       Stock   \n",
       "\n",
       "                                                Desc   QTY  Balance  Portfolio  \n",
       "0                Vanguard Mid-Cap Index Fund Admiral   141    43336  Portfolio  \n",
       "1      Vanguard Total Bond Market Index Fund Admiral  6410    72762  Portfolio  \n",
       "2  Vanguard Total International Bond Index Fund A...  3161    72628  Portfolio  \n",
       "3  Vanguard Total International Stock Index Fund ...  2244    80743  Portfolio  \n",
       "4     Vanguard Total Stock Market Index Fund Admiral   670    76137  Portfolio  "
      ]
     },
     "execution_count": 8,
     "metadata": {},
     "output_type": "execute_result"
    }
   ],
   "source": [
    "df = pd.read_excel('401k-client-data.xlsx')\n",
    "\n",
    "# Display the dictionary\n",
    "df.head()"
   ]
  },
  {
   "cell_type": "code",
   "execution_count": 9,
   "metadata": {},
   "outputs": [
    {
     "name": "stdout",
     "output_type": "stream",
     "text": [
      "['VIMAX' 'VBTLX' 'VTABX' 'VTIAX' 'VTSAX' 'BIL' 'VGHCX' 'VLCAX' 'VSGAX'\n",
      " 'VGSLX' 'VSIAX' 'VTWAX']\n"
     ]
    }
   ],
   "source": [
    "# Print unique tickers\n",
    "unique_tickers = df['Ticker'].unique()\n",
    "print(unique_tickers)"
   ]
  },
  {
   "cell_type": "markdown",
   "metadata": {},
   "source": [
    "All tickers are Vanguard funds. That's how I know this client has been following my advice."
   ]
  },
  {
   "cell_type": "code",
   "execution_count": 10,
   "metadata": {},
   "outputs": [
    {
     "data": {
      "application/vnd.plotly.v1+json": {
       "config": {
        "plotlyServerURL": "https://plot.ly"
       },
       "data": [
        {
         "branchvalues": "total",
         "domain": {
          "x": [
           0,
           1
          ],
          "y": [
           0,
           1
          ]
         },
         "hovertemplate": "labels=%{label}<br>Balance=%{value}<br>parent=%{parent}<br>id=%{id}<extra></extra>",
         "ids": [
          "Portfolio/Cash/BIL",
          "Portfolio/Bond/VBTLX",
          "Portfolio/Stock/VGHCX",
          "Portfolio/Stock/VGSLX",
          "Portfolio/Stock/VIMAX",
          "Portfolio/Stock/VLCAX",
          "Portfolio/Stock/VSGAX",
          "Portfolio/Stock/VSIAX",
          "Portfolio/Bond/VTABX",
          "Portfolio/Stock/VTIAX",
          "Portfolio/Stock/VTSAX",
          "Portfolio/Stock/VTWAX",
          "Portfolio/Bond",
          "Portfolio/Cash",
          "Portfolio/Stock",
          "Portfolio"
         ],
         "labels": [
          "BIL",
          "VBTLX",
          "VGHCX",
          "VGSLX",
          "VIMAX",
          "VLCAX",
          "VSGAX",
          "VSIAX",
          "VTABX",
          "VTIAX",
          "VTSAX",
          "VTWAX",
          "Bond",
          "Cash",
          "Stock",
          "Portfolio"
         ],
         "name": "",
         "parents": [
          "Portfolio/Cash",
          "Portfolio/Bond",
          "Portfolio/Stock",
          "Portfolio/Stock",
          "Portfolio/Stock",
          "Portfolio/Stock",
          "Portfolio/Stock",
          "Portfolio/Stock",
          "Portfolio/Bond",
          "Portfolio/Stock",
          "Portfolio/Stock",
          "Portfolio/Stock",
          "Portfolio",
          "Portfolio",
          "Portfolio",
          ""
         ],
         "type": "sunburst",
         "values": [
          439403,
          119859,
          13641,
          24596,
          74075,
          13777,
          15136,
          63498,
          92483,
          120105,
          164585,
          20975,
          212342,
          439403,
          510388,
          1162133
         ]
        }
       ],
       "layout": {
        "height": 750,
        "legend": {
         "tracegroupgap": 0
        },
        "template": {
         "data": {
          "bar": [
           {
            "error_x": {
             "color": "#2a3f5f"
            },
            "error_y": {
             "color": "#2a3f5f"
            },
            "marker": {
             "line": {
              "color": "#E5ECF6",
              "width": 0.5
             },
             "pattern": {
              "fillmode": "overlay",
              "size": 10,
              "solidity": 0.2
             }
            },
            "type": "bar"
           }
          ],
          "barpolar": [
           {
            "marker": {
             "line": {
              "color": "#E5ECF6",
              "width": 0.5
             },
             "pattern": {
              "fillmode": "overlay",
              "size": 10,
              "solidity": 0.2
             }
            },
            "type": "barpolar"
           }
          ],
          "carpet": [
           {
            "aaxis": {
             "endlinecolor": "#2a3f5f",
             "gridcolor": "white",
             "linecolor": "white",
             "minorgridcolor": "white",
             "startlinecolor": "#2a3f5f"
            },
            "baxis": {
             "endlinecolor": "#2a3f5f",
             "gridcolor": "white",
             "linecolor": "white",
             "minorgridcolor": "white",
             "startlinecolor": "#2a3f5f"
            },
            "type": "carpet"
           }
          ],
          "choropleth": [
           {
            "colorbar": {
             "outlinewidth": 0,
             "ticks": ""
            },
            "type": "choropleth"
           }
          ],
          "contour": [
           {
            "colorbar": {
             "outlinewidth": 0,
             "ticks": ""
            },
            "colorscale": [
             [
              0,
              "#0d0887"
             ],
             [
              0.1111111111111111,
              "#46039f"
             ],
             [
              0.2222222222222222,
              "#7201a8"
             ],
             [
              0.3333333333333333,
              "#9c179e"
             ],
             [
              0.4444444444444444,
              "#bd3786"
             ],
             [
              0.5555555555555556,
              "#d8576b"
             ],
             [
              0.6666666666666666,
              "#ed7953"
             ],
             [
              0.7777777777777778,
              "#fb9f3a"
             ],
             [
              0.8888888888888888,
              "#fdca26"
             ],
             [
              1,
              "#f0f921"
             ]
            ],
            "type": "contour"
           }
          ],
          "contourcarpet": [
           {
            "colorbar": {
             "outlinewidth": 0,
             "ticks": ""
            },
            "type": "contourcarpet"
           }
          ],
          "heatmap": [
           {
            "colorbar": {
             "outlinewidth": 0,
             "ticks": ""
            },
            "colorscale": [
             [
              0,
              "#0d0887"
             ],
             [
              0.1111111111111111,
              "#46039f"
             ],
             [
              0.2222222222222222,
              "#7201a8"
             ],
             [
              0.3333333333333333,
              "#9c179e"
             ],
             [
              0.4444444444444444,
              "#bd3786"
             ],
             [
              0.5555555555555556,
              "#d8576b"
             ],
             [
              0.6666666666666666,
              "#ed7953"
             ],
             [
              0.7777777777777778,
              "#fb9f3a"
             ],
             [
              0.8888888888888888,
              "#fdca26"
             ],
             [
              1,
              "#f0f921"
             ]
            ],
            "type": "heatmap"
           }
          ],
          "heatmapgl": [
           {
            "colorbar": {
             "outlinewidth": 0,
             "ticks": ""
            },
            "colorscale": [
             [
              0,
              "#0d0887"
             ],
             [
              0.1111111111111111,
              "#46039f"
             ],
             [
              0.2222222222222222,
              "#7201a8"
             ],
             [
              0.3333333333333333,
              "#9c179e"
             ],
             [
              0.4444444444444444,
              "#bd3786"
             ],
             [
              0.5555555555555556,
              "#d8576b"
             ],
             [
              0.6666666666666666,
              "#ed7953"
             ],
             [
              0.7777777777777778,
              "#fb9f3a"
             ],
             [
              0.8888888888888888,
              "#fdca26"
             ],
             [
              1,
              "#f0f921"
             ]
            ],
            "type": "heatmapgl"
           }
          ],
          "histogram": [
           {
            "marker": {
             "pattern": {
              "fillmode": "overlay",
              "size": 10,
              "solidity": 0.2
             }
            },
            "type": "histogram"
           }
          ],
          "histogram2d": [
           {
            "colorbar": {
             "outlinewidth": 0,
             "ticks": ""
            },
            "colorscale": [
             [
              0,
              "#0d0887"
             ],
             [
              0.1111111111111111,
              "#46039f"
             ],
             [
              0.2222222222222222,
              "#7201a8"
             ],
             [
              0.3333333333333333,
              "#9c179e"
             ],
             [
              0.4444444444444444,
              "#bd3786"
             ],
             [
              0.5555555555555556,
              "#d8576b"
             ],
             [
              0.6666666666666666,
              "#ed7953"
             ],
             [
              0.7777777777777778,
              "#fb9f3a"
             ],
             [
              0.8888888888888888,
              "#fdca26"
             ],
             [
              1,
              "#f0f921"
             ]
            ],
            "type": "histogram2d"
           }
          ],
          "histogram2dcontour": [
           {
            "colorbar": {
             "outlinewidth": 0,
             "ticks": ""
            },
            "colorscale": [
             [
              0,
              "#0d0887"
             ],
             [
              0.1111111111111111,
              "#46039f"
             ],
             [
              0.2222222222222222,
              "#7201a8"
             ],
             [
              0.3333333333333333,
              "#9c179e"
             ],
             [
              0.4444444444444444,
              "#bd3786"
             ],
             [
              0.5555555555555556,
              "#d8576b"
             ],
             [
              0.6666666666666666,
              "#ed7953"
             ],
             [
              0.7777777777777778,
              "#fb9f3a"
             ],
             [
              0.8888888888888888,
              "#fdca26"
             ],
             [
              1,
              "#f0f921"
             ]
            ],
            "type": "histogram2dcontour"
           }
          ],
          "mesh3d": [
           {
            "colorbar": {
             "outlinewidth": 0,
             "ticks": ""
            },
            "type": "mesh3d"
           }
          ],
          "parcoords": [
           {
            "line": {
             "colorbar": {
              "outlinewidth": 0,
              "ticks": ""
             }
            },
            "type": "parcoords"
           }
          ],
          "pie": [
           {
            "automargin": true,
            "type": "pie"
           }
          ],
          "scatter": [
           {
            "fillpattern": {
             "fillmode": "overlay",
             "size": 10,
             "solidity": 0.2
            },
            "type": "scatter"
           }
          ],
          "scatter3d": [
           {
            "line": {
             "colorbar": {
              "outlinewidth": 0,
              "ticks": ""
             }
            },
            "marker": {
             "colorbar": {
              "outlinewidth": 0,
              "ticks": ""
             }
            },
            "type": "scatter3d"
           }
          ],
          "scattercarpet": [
           {
            "marker": {
             "colorbar": {
              "outlinewidth": 0,
              "ticks": ""
             }
            },
            "type": "scattercarpet"
           }
          ],
          "scattergeo": [
           {
            "marker": {
             "colorbar": {
              "outlinewidth": 0,
              "ticks": ""
             }
            },
            "type": "scattergeo"
           }
          ],
          "scattergl": [
           {
            "marker": {
             "colorbar": {
              "outlinewidth": 0,
              "ticks": ""
             }
            },
            "type": "scattergl"
           }
          ],
          "scattermapbox": [
           {
            "marker": {
             "colorbar": {
              "outlinewidth": 0,
              "ticks": ""
             }
            },
            "type": "scattermapbox"
           }
          ],
          "scatterpolar": [
           {
            "marker": {
             "colorbar": {
              "outlinewidth": 0,
              "ticks": ""
             }
            },
            "type": "scatterpolar"
           }
          ],
          "scatterpolargl": [
           {
            "marker": {
             "colorbar": {
              "outlinewidth": 0,
              "ticks": ""
             }
            },
            "type": "scatterpolargl"
           }
          ],
          "scatterternary": [
           {
            "marker": {
             "colorbar": {
              "outlinewidth": 0,
              "ticks": ""
             }
            },
            "type": "scatterternary"
           }
          ],
          "surface": [
           {
            "colorbar": {
             "outlinewidth": 0,
             "ticks": ""
            },
            "colorscale": [
             [
              0,
              "#0d0887"
             ],
             [
              0.1111111111111111,
              "#46039f"
             ],
             [
              0.2222222222222222,
              "#7201a8"
             ],
             [
              0.3333333333333333,
              "#9c179e"
             ],
             [
              0.4444444444444444,
              "#bd3786"
             ],
             [
              0.5555555555555556,
              "#d8576b"
             ],
             [
              0.6666666666666666,
              "#ed7953"
             ],
             [
              0.7777777777777778,
              "#fb9f3a"
             ],
             [
              0.8888888888888888,
              "#fdca26"
             ],
             [
              1,
              "#f0f921"
             ]
            ],
            "type": "surface"
           }
          ],
          "table": [
           {
            "cells": {
             "fill": {
              "color": "#EBF0F8"
             },
             "line": {
              "color": "white"
             }
            },
            "header": {
             "fill": {
              "color": "#C8D4E3"
             },
             "line": {
              "color": "white"
             }
            },
            "type": "table"
           }
          ]
         },
         "layout": {
          "annotationdefaults": {
           "arrowcolor": "#2a3f5f",
           "arrowhead": 0,
           "arrowwidth": 1
          },
          "autotypenumbers": "strict",
          "coloraxis": {
           "colorbar": {
            "outlinewidth": 0,
            "ticks": ""
           }
          },
          "colorscale": {
           "diverging": [
            [
             0,
             "#8e0152"
            ],
            [
             0.1,
             "#c51b7d"
            ],
            [
             0.2,
             "#de77ae"
            ],
            [
             0.3,
             "#f1b6da"
            ],
            [
             0.4,
             "#fde0ef"
            ],
            [
             0.5,
             "#f7f7f7"
            ],
            [
             0.6,
             "#e6f5d0"
            ],
            [
             0.7,
             "#b8e186"
            ],
            [
             0.8,
             "#7fbc41"
            ],
            [
             0.9,
             "#4d9221"
            ],
            [
             1,
             "#276419"
            ]
           ],
           "sequential": [
            [
             0,
             "#0d0887"
            ],
            [
             0.1111111111111111,
             "#46039f"
            ],
            [
             0.2222222222222222,
             "#7201a8"
            ],
            [
             0.3333333333333333,
             "#9c179e"
            ],
            [
             0.4444444444444444,
             "#bd3786"
            ],
            [
             0.5555555555555556,
             "#d8576b"
            ],
            [
             0.6666666666666666,
             "#ed7953"
            ],
            [
             0.7777777777777778,
             "#fb9f3a"
            ],
            [
             0.8888888888888888,
             "#fdca26"
            ],
            [
             1,
             "#f0f921"
            ]
           ],
           "sequentialminus": [
            [
             0,
             "#0d0887"
            ],
            [
             0.1111111111111111,
             "#46039f"
            ],
            [
             0.2222222222222222,
             "#7201a8"
            ],
            [
             0.3333333333333333,
             "#9c179e"
            ],
            [
             0.4444444444444444,
             "#bd3786"
            ],
            [
             0.5555555555555556,
             "#d8576b"
            ],
            [
             0.6666666666666666,
             "#ed7953"
            ],
            [
             0.7777777777777778,
             "#fb9f3a"
            ],
            [
             0.8888888888888888,
             "#fdca26"
            ],
            [
             1,
             "#f0f921"
            ]
           ]
          },
          "colorway": [
           "#636efa",
           "#EF553B",
           "#00cc96",
           "#ab63fa",
           "#FFA15A",
           "#19d3f3",
           "#FF6692",
           "#B6E880",
           "#FF97FF",
           "#FECB52"
          ],
          "font": {
           "color": "#2a3f5f"
          },
          "geo": {
           "bgcolor": "white",
           "lakecolor": "white",
           "landcolor": "#E5ECF6",
           "showlakes": true,
           "showland": true,
           "subunitcolor": "white"
          },
          "hoverlabel": {
           "align": "left"
          },
          "hovermode": "closest",
          "mapbox": {
           "style": "light"
          },
          "paper_bgcolor": "white",
          "plot_bgcolor": "#E5ECF6",
          "polar": {
           "angularaxis": {
            "gridcolor": "white",
            "linecolor": "white",
            "ticks": ""
           },
           "bgcolor": "#E5ECF6",
           "radialaxis": {
            "gridcolor": "white",
            "linecolor": "white",
            "ticks": ""
           }
          },
          "scene": {
           "xaxis": {
            "backgroundcolor": "#E5ECF6",
            "gridcolor": "white",
            "gridwidth": 2,
            "linecolor": "white",
            "showbackground": true,
            "ticks": "",
            "zerolinecolor": "white"
           },
           "yaxis": {
            "backgroundcolor": "#E5ECF6",
            "gridcolor": "white",
            "gridwidth": 2,
            "linecolor": "white",
            "showbackground": true,
            "ticks": "",
            "zerolinecolor": "white"
           },
           "zaxis": {
            "backgroundcolor": "#E5ECF6",
            "gridcolor": "white",
            "gridwidth": 2,
            "linecolor": "white",
            "showbackground": true,
            "ticks": "",
            "zerolinecolor": "white"
           }
          },
          "shapedefaults": {
           "line": {
            "color": "#2a3f5f"
           }
          },
          "ternary": {
           "aaxis": {
            "gridcolor": "white",
            "linecolor": "white",
            "ticks": ""
           },
           "baxis": {
            "gridcolor": "white",
            "linecolor": "white",
            "ticks": ""
           },
           "bgcolor": "#E5ECF6",
           "caxis": {
            "gridcolor": "white",
            "linecolor": "white",
            "ticks": ""
           }
          },
          "title": {
           "x": 0.05
          },
          "xaxis": {
           "automargin": true,
           "gridcolor": "white",
           "linecolor": "white",
           "ticks": "",
           "title": {
            "standoff": 15
           },
           "zerolinecolor": "white",
           "zerolinewidth": 2
          },
          "yaxis": {
           "automargin": true,
           "gridcolor": "white",
           "linecolor": "white",
           "ticks": "",
           "title": {
            "standoff": 15
           },
           "zerolinecolor": "white",
           "zerolinewidth": 2
          }
         }
        },
        "title": {
         "text": "Client Portfolio Composition by Asset Class and Fund"
        },
        "width": 750
       }
      }
     },
     "metadata": {},
     "output_type": "display_data"
    }
   ],
   "source": [
    "# Chart the breakdown of the portfolio by asset class\n",
    "import plotly.express as px\n",
    "\n",
    "fig = px.sunburst(df,\n",
    "                  path=[\"Portfolio\", \"Asset Class\", \"Ticker\"],\n",
    "                  values='Balance',\n",
    "                  width=750, height=750,\n",
    "                  title=\"Client Portfolio Composition by Asset Class and Fund\",\n",
    "                  )\n",
    "fig.show()"
   ]
  },
  {
   "cell_type": "markdown",
   "metadata": {},
   "source": [
    "This portfolio has a large cash position."
   ]
  },
  {
   "cell_type": "code",
   "execution_count": 11,
   "metadata": {},
   "outputs": [],
   "source": [
    "def get_cagr(ticker):\n",
    "    # Fetch historical market data for the given ticker symbol\n",
    "    stock = yf.Ticker(ticker)\n",
    "    hist = stock.history(period=\"max\")  # Fetch data for the maximum available period\n",
    "\n",
    "    # Calculate the initial and final adjusted close prices\n",
    "    initial_price = hist['Close'].iloc[0]\n",
    "    final_price = hist['Close'].iloc[-1]\n",
    "\n",
    "    # Calculate the number of years\n",
    "    start_date = hist.index[0]\n",
    "    end_date = hist.index[-1]\n",
    "    num_years = (end_date - start_date).days / 365.25  # Approximate number of years\n",
    "\n",
    "    # Calculate CAGR\n",
    "    cagr = (final_price / initial_price) ** (1 / num_years) - 1\n",
    "\n",
    "    return cagr"
   ]
  },
  {
   "cell_type": "code",
   "execution_count": 12,
   "metadata": {},
   "outputs": [
    {
     "data": {
      "text/plain": [
       "{'VIMAX': 0.09656602521756241,\n",
       " 'VBTLX': 0.02881038347692133,\n",
       " 'VTABX': 0.021294482090999045,\n",
       " 'VTIAX': 0.04997259710510238,\n",
       " 'VTSAX': 0.08375785274845882,\n",
       " 'BIL': 0.010371942885902152,\n",
       " 'VGHCX': 0.15092025508115814,\n",
       " 'VLCAX': 0.10341614001523558,\n",
       " 'VSGAX': 0.11169851799708908,\n",
       " 'VGSLX': 0.07874615525217421,\n",
       " 'VSIAX': 0.11578435246089303,\n",
       " 'VTWAX': 0.11727829220203256}"
      ]
     },
     "execution_count": 12,
     "metadata": {},
     "output_type": "execute_result"
    }
   ],
   "source": [
    "# Calculate lifetime returns for each ticker\n",
    "lifetime_returns = {ticker: get_cagr(ticker) for ticker in unique_tickers}\n",
    "lifetime_returns"
   ]
  },
  {
   "cell_type": "markdown",
   "metadata": {},
   "source": [
    "If you check the calculated CAGR against any fund's return since inception - they will match. Check VGHCX for example. With VGHCX you'll realize those 15% returns can only be had if you had invested 15+ years ago. That's a rookie mistake when investing - chasing returns because the fund was a rocket for the first couple years. But I digress...\n",
    "\n",
    "VMFXX is 0%, because it's a money market fund (cash). They likely don't track the returns since the NAV is always $1."
   ]
  },
  {
   "cell_type": "markdown",
   "metadata": {},
   "source": [
    "# Current Asset Allocation"
   ]
  },
  {
   "cell_type": "code",
   "execution_count": 13,
   "metadata": {},
   "outputs": [
    {
     "data": {
      "image/png": "[encoded data removed]",
      "text/plain": [
       "<Figure size 400x400 with 1 Axes>"
      ]
     },
     "metadata": {},
     "output_type": "display_data"
    }
   ],
   "source": [
    "# Group by asset class\n",
    "grouped = df.groupby('Asset Class')['Balance'].sum()\n",
    "\n",
    "# Create a pie chart of the asset allocation\n",
    "plt.figure(figsize=(4,4))\n",
    "plt.pie(grouped, labels=grouped.index, autopct='%1.1f%%', startangle=140)\n",
    "plt.title('Asset Allocation by Class')\n",
    "\n",
    "# Display the pie chart\n",
    "plt.show()"
   ]
  },
  {
   "cell_type": "markdown",
   "metadata": {},
   "source": [
    "Without context, the pie chart is meaningless. What it does is provide a place to ask questions about goals and risk tolerance. Too much of any particular asset class isn't necessarily a bad thing. It depends completely on the customer's goals, and is tied to risk (which is often overlooked)."
   ]
  },
  {
   "cell_type": "code",
   "execution_count": 14,
   "metadata": {},
   "outputs": [
    {
     "data": {
      "image/png": "[encoded data removed]",
      "text/plain": [
       "<Figure size 400x400 with 1 Axes>"
      ]
     },
     "metadata": {},
     "output_type": "display_data"
    },
    {
     "data": {
      "image/png": "[encoded data removed]",
      "text/plain": [
       "<Figure size 400x400 with 1 Axes>"
      ]
     },
     "metadata": {},
     "output_type": "display_data"
    },
    {
     "data": {
      "image/png": "[encoded data removed]",
      "text/plain": [
       "<Figure size 400x400 with 1 Axes>"
      ]
     },
     "metadata": {},
     "output_type": "display_data"
    }
   ],
   "source": [
    "# For each account type display the asset allocation.\n",
    "# Note this aggregates the asset allocation for all accounts of the same type. We don't\n",
    "# care if there is two IRAs or ten IRAs. We just want to know the asset allocation for all IRAs.\n",
    "for account_type in df['Account Type'].unique():\n",
    "    # Filter the dataframe by account type\n",
    "    subset = df[df['Account Type'] == account_type]\n",
    "\n",
    "    # Group by asset class\n",
    "    grouped = subset.groupby('Asset Class')['Balance'].sum()\n",
    "\n",
    "    # Create a pie chart of the asset allocation\n",
    "    plt.figure(figsize=(4,4))\n",
    "    plt.pie(grouped, labels=grouped.index, autopct='%1.1f%%', startangle=140)\n",
    "    plt.title(f'Asset Allocation for {account_type}')\n",
    "\n",
    "    # Display the pie chart\n",
    "    plt.show()"
   ]
  },
  {
   "cell_type": "markdown",
   "metadata": {},
   "source": [
    "This asset allocation across accounts has lots of room for improvement. \n",
    "\n",
    "- The cash in the brokerage account (money market) could be earning more interest in something else.\n",
    "- The percent of stocks in the SEP IRA vs. the IRA needs investigating. Without looking at the fund choices it's hard to understand why these are divided this way.\n",
    "- There is uninvested cash in the SEP IRA\n",
    "- There is a lot of uninvested cash in the IRA"
   ]
  },
  {
   "cell_type": "markdown",
   "metadata": {},
   "source": [
    "# Recommended Asset Allocation\n",
    "\n",
    "When considering how to put money to work to achieve goals, a holistic approach is used to consider the complete financial picture. Purely for this investment analysis, all investments are first grouped together. Then they are broken down into finer detail across account types.\n",
    "\n",
    "Think of it as using food as fuel. Imagine an Olympic athlete who would want to consume so much protein, so much carbs, and so much fat each day. They would then divide that down into specific meals. \n",
    "\n",
    "Investing properly is exactly like that. We have so much money to invest. Then we pick what percent of stocks/bonds/cash. Then we figure out where those things are going to go (retirement accounts, self-managed accounts, bank accounts, etc.)\n",
    "\n",
    "So we start with - what are the current investments? Often it's an ugly pie."
   ]
  },
  {
   "cell_type": "code",
   "execution_count": 15,
   "metadata": {},
   "outputs": [
    {
     "data": {
      "image/png": "[encoded data removed]",
      "text/plain": [
       "<Figure size 640x480 with 1 Axes>"
      ]
     },
     "metadata": {},
     "output_type": "display_data"
    }
   ],
   "source": [
    "ugly_pi = df.groupby('Ticker')['Balance'].sum()\n",
    "# Calculate the percentage of each investment type\n",
    "type_percentages = ugly_pi / ugly_pi.sum() * 100\n",
    "\n",
    "wedges, texts, autotexts = plt.pie(type_percentages, labels=type_percentages.index, autopct='%1.1f%%', startangle=140,\n",
    "                                   pctdistance=0.85, labeldistance=1.1)\n",
    "\n",
    "# Draw circle for better appearance\n",
    "centre_circle = plt.Circle((0,0),0.30,fc='white')\n",
    "fig = plt.gcf()\n",
    "fig.gca().add_artist(centre_circle)\n",
    "\n",
    "plt.title('Asset Allocation by Investment')\n",
    "plt.axis('equal')  # Equal aspect ratio ensures that pie is drawn as a circle.\n",
    "plt.show()\n"
   ]
  },
  {
   "cell_type": "markdown",
   "metadata": {},
   "source": [
    "That's an ugly pie. It's complicated, hard to read, and probably has a lot of redundancy within the funds that people don't realize. It's quite normal for non-professionals to have something like this as their retirement plan. As an example one client portfolio had several mutual funds, and every single fund held Facebook stock across four different mutual funds. All totaled the client had 6% of his portfolio invested in Facebook, without even knowing it."
   ]
  },
  {
   "cell_type": "markdown",
   "metadata": {},
   "source": [
    "# Sell, Buy, and Rebalance\n",
    "\n",
    "For this client a 60/40 asset allocation between stocks and bonds was appropriate for their age and risk tolerance. We'll use Vanguard funds because they have the lowest expense ratios. All of these funds were available to the client because they managed all of their own accounts.\n",
    "\n",
    "What happens if you have a 401(k)? Usually a 401(k) will have 10-15 investment choices. The process would take a little longer, but the steps remain the same. A spreadsheet with the best investments available could be input into process. The individual fund percentages and number of investments would change. The asset allocation would not.\n",
    "\n",
    "Think of it like grocery shopping. If the store is out of something - you find a substitute. If the store doesn't have a can of diced tomatoes, you pick a can of whole tomatoes (and cut them yourself). The recipe doesn't change - just the ingredients."
   ]
  },
  {
   "cell_type": "code",
   "execution_count": 16,
   "metadata": {},
   "outputs": [
    {
     "data": {
      "text/html": [
       "<div>\n",
       "<style scoped>\n",
       "    .dataframe tbody tr th:only-of-type {\n",
       "        vertical-align: middle;\n",
       "    }\n",
       "\n",
       "    .dataframe tbody tr th {\n",
       "        vertical-align: top;\n",
       "    }\n",
       "\n",
       "    .dataframe thead th {\n",
       "        text-align: right;\n",
       "    }\n",
       "</style>\n",
       "<table border=\"1\" class=\"dataframe\">\n",
       "  <thead>\n",
       "    <tr style=\"text-align: right;\">\n",
       "      <th></th>\n",
       "      <th>Desc</th>\n",
       "      <th>Ticker</th>\n",
       "      <th>Asset Class</th>\n",
       "      <th>Percent</th>\n",
       "    </tr>\n",
       "  </thead>\n",
       "  <tbody>\n",
       "    <tr>\n",
       "      <th>0</th>\n",
       "      <td>Vanguard Total Stock Market ETF</td>\n",
       "      <td>VTI</td>\n",
       "      <td>Stock</td>\n",
       "      <td>19.8</td>\n",
       "    </tr>\n",
       "    <tr>\n",
       "      <th>1</th>\n",
       "      <td>Vanguard FTSE Developed Markets ETF</td>\n",
       "      <td>VEA</td>\n",
       "      <td>Stock</td>\n",
       "      <td>16.7</td>\n",
       "    </tr>\n",
       "    <tr>\n",
       "      <th>2</th>\n",
       "      <td>Vanguard FTSE Emerging Markets ETF</td>\n",
       "      <td>VWO</td>\n",
       "      <td>Stock</td>\n",
       "      <td>10.3</td>\n",
       "    </tr>\n",
       "    <tr>\n",
       "      <th>3</th>\n",
       "      <td>Vanguard Value ETF</td>\n",
       "      <td>VTV</td>\n",
       "      <td>Stock</td>\n",
       "      <td>5.3</td>\n",
       "    </tr>\n",
       "    <tr>\n",
       "      <th>4</th>\n",
       "      <td>Vanguard Mid-Cap Value ETF</td>\n",
       "      <td>VOE</td>\n",
       "      <td>Stock</td>\n",
       "      <td>4.3</td>\n",
       "    </tr>\n",
       "    <tr>\n",
       "      <th>5</th>\n",
       "      <td>Vanguard Small-Cap Value ETF</td>\n",
       "      <td>VBR</td>\n",
       "      <td>Stock</td>\n",
       "      <td>3.6</td>\n",
       "    </tr>\n",
       "    <tr>\n",
       "      <th>6</th>\n",
       "      <td>Vanguard Total Bond Market Index Adm</td>\n",
       "      <td>VBTLX</td>\n",
       "      <td>Bond</td>\n",
       "      <td>12.3</td>\n",
       "    </tr>\n",
       "    <tr>\n",
       "      <th>7</th>\n",
       "      <td>Vanguard Total International Bond ETF</td>\n",
       "      <td>BNDX</td>\n",
       "      <td>Bond</td>\n",
       "      <td>14.7</td>\n",
       "    </tr>\n",
       "    <tr>\n",
       "      <th>8</th>\n",
       "      <td>Vanguard Emerging Markets Bond Admiral</td>\n",
       "      <td>VEGBX</td>\n",
       "      <td>Bond</td>\n",
       "      <td>8.0</td>\n",
       "    </tr>\n",
       "    <tr>\n",
       "      <th>9</th>\n",
       "      <td>Vanguard Short-Term Infl-Prot Secs ETF</td>\n",
       "      <td>VTIP</td>\n",
       "      <td>Bond</td>\n",
       "      <td>5.0</td>\n",
       "    </tr>\n",
       "  </tbody>\n",
       "</table>\n",
       "</div>"
      ],
      "text/plain": [
       "                                      Desc Ticker Asset Class  Percent\n",
       "0         Vanguard Total Stock Market ETF     VTI       Stock     19.8\n",
       "1     Vanguard FTSE Developed Markets ETF     VEA       Stock     16.7\n",
       "2      Vanguard FTSE Emerging Markets ETF     VWO       Stock     10.3\n",
       "3                      Vanguard Value ETF     VTV       Stock      5.3\n",
       "4              Vanguard Mid-Cap Value ETF     VOE       Stock      4.3\n",
       "5            Vanguard Small-Cap Value ETF     VBR       Stock      3.6\n",
       "6     Vanguard Total Bond Market Index Adm  VBTLX        Bond     12.3\n",
       "7   Vanguard Total International Bond ETF    BNDX        Bond     14.7\n",
       "8  Vanguard Emerging Markets Bond Admiral   VEGBX        Bond      8.0\n",
       "9  Vanguard Short-Term Infl-Prot Secs ETF    VTIP        Bond      5.0"
      ]
     },
     "execution_count": 16,
     "metadata": {},
     "output_type": "execute_result"
    }
   ],
   "source": [
    "# Read in the recommended fund choices and their percent allocation for a 60/40 portfolio\n",
    "df_new_portfolio = pd.read_excel('60-40-Vanguard-Portfolio.xlsx')\n",
    "df_new_portfolio.head(15)"
   ]
  },
  {
   "cell_type": "markdown",
   "metadata": {},
   "source": [
    "Where did these fund choices and percentages come from? The choices are based on Nobel Prize winning research and the efficient market hypothesis. You might be wondering - 'yes, but exactly where?' Investment advisors that think they have some type of secret sauce suffer from 'overconfidence bias'. This bias is one of many in behavior finance (from more Nobel Prize winning research). What I do is look at the top firms and see how they divide stuff up (based on age and risk-tolerance). Then I do the exact same thing. There's no point in reinventing the wheel.\n",
    "\n",
    "**WARNING** To keep this process shorter, I'm skipping over the exclusion of the stocks in the Brokerage account from the calculations. Why? Because if we sell these it's a tax hit. It gets complex to follow along, but the basic idea that professionals do is:\n",
    "\n",
    "- Calculate the total sum of the portfolio\n",
    "- Divide the dollar amounts up into the new portfolio, by the new percents for each fund (see the previous list)\n",
    "- For each fund that isn't being sold, figure out it's asset class, and category. For example: Large-cap domestic stocks, small-cap domestic stocks, government bonds. If any of that is confusing, check out my best-selling book [99 Minute Millionaire](https://www.amazon.com/99-Minute-Millionaire-Simplest-Investing-ebook/dp/B01K9ISOH8)"
   ]
  },
  {
   "cell_type": "code",
   "execution_count": 17,
   "metadata": {},
   "outputs": [
    {
     "data": {
      "text/html": [
       "<div>\n",
       "<style scoped>\n",
       "    .dataframe tbody tr th:only-of-type {\n",
       "        vertical-align: middle;\n",
       "    }\n",
       "\n",
       "    .dataframe tbody tr th {\n",
       "        vertical-align: top;\n",
       "    }\n",
       "\n",
       "    .dataframe thead th {\n",
       "        text-align: right;\n",
       "    }\n",
       "</style>\n",
       "<table border=\"1\" class=\"dataframe\">\n",
       "  <thead>\n",
       "    <tr style=\"text-align: right;\">\n",
       "      <th></th>\n",
       "      <th>Account Type</th>\n",
       "      <th>Owner</th>\n",
       "      <th>Ticker</th>\n",
       "      <th>Asset Class</th>\n",
       "      <th>Desc</th>\n",
       "      <th>QTY</th>\n",
       "      <th>Balance</th>\n",
       "      <th>Portfolio</th>\n",
       "    </tr>\n",
       "  </thead>\n",
       "  <tbody>\n",
       "    <tr>\n",
       "      <th>0</th>\n",
       "      <td>IRA</td>\n",
       "      <td>Husband</td>\n",
       "      <td>VIMAX</td>\n",
       "      <td>Stock</td>\n",
       "      <td>Vanguard Mid-Cap Index Fund Admiral</td>\n",
       "      <td>141</td>\n",
       "      <td>43336</td>\n",
       "      <td>Portfolio</td>\n",
       "    </tr>\n",
       "    <tr>\n",
       "      <th>1</th>\n",
       "      <td>IRA</td>\n",
       "      <td>Husband</td>\n",
       "      <td>VBTLX</td>\n",
       "      <td>Bond</td>\n",
       "      <td>Vanguard Total Bond Market Index Fund Admiral</td>\n",
       "      <td>6410</td>\n",
       "      <td>72762</td>\n",
       "      <td>Portfolio</td>\n",
       "    </tr>\n",
       "    <tr>\n",
       "      <th>2</th>\n",
       "      <td>IRA</td>\n",
       "      <td>Husband</td>\n",
       "      <td>VTABX</td>\n",
       "      <td>Bond</td>\n",
       "      <td>Vanguard Total International Bond Index Fund A...</td>\n",
       "      <td>3161</td>\n",
       "      <td>72628</td>\n",
       "      <td>Portfolio</td>\n",
       "    </tr>\n",
       "    <tr>\n",
       "      <th>3</th>\n",
       "      <td>IRA</td>\n",
       "      <td>Husband</td>\n",
       "      <td>VTIAX</td>\n",
       "      <td>Stock</td>\n",
       "      <td>Vanguard Total International Stock Index Fund ...</td>\n",
       "      <td>2244</td>\n",
       "      <td>80743</td>\n",
       "      <td>Portfolio</td>\n",
       "    </tr>\n",
       "    <tr>\n",
       "      <th>4</th>\n",
       "      <td>IRA</td>\n",
       "      <td>Husband</td>\n",
       "      <td>VTSAX</td>\n",
       "      <td>Stock</td>\n",
       "      <td>Vanguard Total Stock Market Index Fund Admiral</td>\n",
       "      <td>670</td>\n",
       "      <td>76137</td>\n",
       "      <td>Portfolio</td>\n",
       "    </tr>\n",
       "  </tbody>\n",
       "</table>\n",
       "</div>"
      ],
      "text/plain": [
       "  Account Type    Owner Ticker Asset Class  \\\n",
       "0          IRA  Husband  VIMAX       Stock   \n",
       "1          IRA  Husband  VBTLX        Bond   \n",
       "2          IRA  Husband  VTABX        Bond   \n",
       "3          IRA  Husband  VTIAX       Stock   \n",
       "4          IRA  Husband  VTSAX       Stock   \n",
       "\n",
       "                                                Desc   QTY  Balance  Portfolio  \n",
       "0                Vanguard Mid-Cap Index Fund Admiral   141    43336  Portfolio  \n",
       "1      Vanguard Total Bond Market Index Fund Admiral  6410    72762  Portfolio  \n",
       "2  Vanguard Total International Bond Index Fund A...  3161    72628  Portfolio  \n",
       "3  Vanguard Total International Stock Index Fund ...  2244    80743  Portfolio  \n",
       "4     Vanguard Total Stock Market Index Fund Admiral   670    76137  Portfolio  "
      ]
     },
     "execution_count": 17,
     "metadata": {},
     "output_type": "execute_result"
    }
   ],
   "source": [
    "# Treat the brokerage accounts as untoucbable\n",
    "df_retirement_accts = df[df['Account Type'] != 'Brokerage']\n",
    "df_retirement_accts.head()"
   ]
  },
  {
   "cell_type": "code",
   "execution_count": 18,
   "metadata": {},
   "outputs": [
    {
     "data": {
      "text/html": [
       "<div>\n",
       "<style scoped>\n",
       "    .dataframe tbody tr th:only-of-type {\n",
       "        vertical-align: middle;\n",
       "    }\n",
       "\n",
       "    .dataframe tbody tr th {\n",
       "        vertical-align: top;\n",
       "    }\n",
       "\n",
       "    .dataframe thead th {\n",
       "        text-align: right;\n",
       "    }\n",
       "</style>\n",
       "<table border=\"1\" class=\"dataframe\">\n",
       "  <thead>\n",
       "    <tr style=\"text-align: right;\">\n",
       "      <th></th>\n",
       "      <th>Account Type</th>\n",
       "      <th>Owner</th>\n",
       "      <th>Ticker</th>\n",
       "      <th>Asset Class</th>\n",
       "      <th>Desc</th>\n",
       "      <th>QTY</th>\n",
       "      <th>Balance</th>\n",
       "      <th>Portfolio</th>\n",
       "    </tr>\n",
       "  </thead>\n",
       "  <tbody>\n",
       "    <tr>\n",
       "      <th>10</th>\n",
       "      <td>Brokerage</td>\n",
       "      <td>Wife</td>\n",
       "      <td>BIL</td>\n",
       "      <td>Cash</td>\n",
       "      <td>Vanguard Federal Money Market Fund</td>\n",
       "      <td>11913</td>\n",
       "      <td>11913</td>\n",
       "      <td>Portfolio</td>\n",
       "    </tr>\n",
       "    <tr>\n",
       "      <th>24</th>\n",
       "      <td>Brokerage</td>\n",
       "      <td>Joint</td>\n",
       "      <td>BIL</td>\n",
       "      <td>Cash</td>\n",
       "      <td>Vanguard Federal Money Market Fund</td>\n",
       "      <td>328818</td>\n",
       "      <td>328818</td>\n",
       "      <td>Portfolio</td>\n",
       "    </tr>\n",
       "  </tbody>\n",
       "</table>\n",
       "</div>"
      ],
      "text/plain": [
       "   Account Type  Owner Ticker Asset Class                                Desc  \\\n",
       "10    Brokerage   Wife    BIL        Cash  Vanguard Federal Money Market Fund   \n",
       "24    Brokerage  Joint    BIL        Cash  Vanguard Federal Money Market Fund   \n",
       "\n",
       "       QTY  Balance  Portfolio  \n",
       "10   11913    11913  Portfolio  \n",
       "24  328818   328818  Portfolio  "
      ]
     },
     "execution_count": 18,
     "metadata": {},
     "output_type": "execute_result"
    }
   ],
   "source": [
    "# Except for any cash we have in the brokerage accounts, that's getting reallocated.\n",
    "df_brokerage_cash = df[(df['Account Type'] == 'Brokerage') & (df['Asset Class'] == 'Cash')]\n",
    "df_brokerage_cash.head()"
   ]
  },
  {
   "cell_type": "code",
   "execution_count": 19,
   "metadata": {},
   "outputs": [
    {
     "name": "stdout",
     "output_type": "stream",
     "text": [
      "Total amount for reallocation: $1,070,451\n"
     ]
    }
   ],
   "source": [
    "# Add up what will be rebalanced\n",
    "sum_reallocation_balance = df_retirement_accts['Balance'].sum() + df_brokerage_cash['Balance'].sum()\n",
    "print(f'Total amount for reallocation: ${sum_reallocation_balance:,.0f}')"
   ]
  },
  {
   "cell_type": "code",
   "execution_count": 20,
   "metadata": {},
   "outputs": [
    {
     "data": {
      "text/html": [
       "<div>\n",
       "<style scoped>\n",
       "    .dataframe tbody tr th:only-of-type {\n",
       "        vertical-align: middle;\n",
       "    }\n",
       "\n",
       "    .dataframe tbody tr th {\n",
       "        vertical-align: top;\n",
       "    }\n",
       "\n",
       "    .dataframe thead th {\n",
       "        text-align: right;\n",
       "    }\n",
       "</style>\n",
       "<table border=\"1\" class=\"dataframe\">\n",
       "  <thead>\n",
       "    <tr style=\"text-align: right;\">\n",
       "      <th></th>\n",
       "      <th>Ticker</th>\n",
       "      <th>Balance</th>\n",
       "      <th>Percent</th>\n",
       "    </tr>\n",
       "  </thead>\n",
       "  <tbody>\n",
       "    <tr>\n",
       "      <th>0</th>\n",
       "      <td>BIL</td>\n",
       "      <td>439403</td>\n",
       "      <td>41.048399</td>\n",
       "    </tr>\n",
       "    <tr>\n",
       "      <th>1</th>\n",
       "      <td>VBTLX</td>\n",
       "      <td>119859</td>\n",
       "      <td>11.197056</td>\n",
       "    </tr>\n",
       "    <tr>\n",
       "      <th>2</th>\n",
       "      <td>VGSLX</td>\n",
       "      <td>24596</td>\n",
       "      <td>2.297723</td>\n",
       "    </tr>\n",
       "    <tr>\n",
       "      <th>3</th>\n",
       "      <td>VIMAX</td>\n",
       "      <td>74075</td>\n",
       "      <td>6.919980</td>\n",
       "    </tr>\n",
       "    <tr>\n",
       "      <th>4</th>\n",
       "      <td>VSIAX</td>\n",
       "      <td>63498</td>\n",
       "      <td>5.931892</td>\n",
       "    </tr>\n",
       "    <tr>\n",
       "      <th>5</th>\n",
       "      <td>VTABX</td>\n",
       "      <td>92483</td>\n",
       "      <td>8.639629</td>\n",
       "    </tr>\n",
       "    <tr>\n",
       "      <th>6</th>\n",
       "      <td>VTIAX</td>\n",
       "      <td>120105</td>\n",
       "      <td>11.220037</td>\n",
       "    </tr>\n",
       "    <tr>\n",
       "      <th>7</th>\n",
       "      <td>VTSAX</td>\n",
       "      <td>115457</td>\n",
       "      <td>10.785828</td>\n",
       "    </tr>\n",
       "    <tr>\n",
       "      <th>8</th>\n",
       "      <td>VTWAX</td>\n",
       "      <td>20975</td>\n",
       "      <td>1.959454</td>\n",
       "    </tr>\n",
       "  </tbody>\n",
       "</table>\n",
       "</div>"
      ],
      "text/plain": [
       "  Ticker  Balance    Percent\n",
       "0    BIL   439403  41.048399\n",
       "1  VBTLX   119859  11.197056\n",
       "2  VGSLX    24596   2.297723\n",
       "3  VIMAX    74075   6.919980\n",
       "4  VSIAX    63498   5.931892\n",
       "5  VTABX    92483   8.639629\n",
       "6  VTIAX   120105  11.220037\n",
       "7  VTSAX   115457  10.785828\n",
       "8  VTWAX    20975   1.959454"
      ]
     },
     "execution_count": 20,
     "metadata": {},
     "output_type": "execute_result"
    }
   ],
   "source": [
    "# Roll up the existing portfolio by ticker, to determine the percent of each fund\n",
    "df_current_funds = pd.concat([df_retirement_accts, df_brokerage_cash])\n",
    "df_current_allocation = df_current_funds.groupby('Ticker')['Balance'].sum().reset_index()\n",
    "df_current_allocation['Percent'] = (df_current_allocation['Balance'] / df_current_allocation['Balance'].sum()) * 100\n",
    "df_current_allocation"
   ]
  },
  {
   "cell_type": "markdown",
   "metadata": {},
   "source": [
    "Add the benchmarks for each fund. We'll need these later for visualizations."
   ]
  },
  {
   "cell_type": "code",
   "execution_count": 21,
   "metadata": {},
   "outputs": [],
   "source": [
    "# Benchmark indices for each fund in the current portfolio\n",
    "benchmark_indices = {\n",
    "    'VBTLX': 'BND',   # Vanguard Total Bond Market ETF\n",
    "    'VGSLX': 'VNQ',   # Vanguard Real Estate ETF\n",
    "    'VIMAX': 'VTI',   # Vanguard Total Stock Market ETF\n",
    "    'BIL': 'BIL', # Vanguard Money Market Fund (self as benchmark)\n",
    "    'VSIAX': 'IWN',   # iShares Russell 2000 Value ETF\n",
    "    'VTABX': 'BNDX',  # Vanguard Total International Bond Index ETF\n",
    "    'VTIAX': 'VEU',   # Vanguard FTSE All-World ex-US ETF\n",
    "    'VTSAX': 'VTI',   # Vanguard Total Stock Market ETF\n",
    "    'VTWAX': 'VT'     # Vanguard Total World Stock ETF\n",
    "}"
   ]
  },
  {
   "cell_type": "code",
   "execution_count": 22,
   "metadata": {},
   "outputs": [
    {
     "data": {
      "text/html": [
       "<div>\n",
       "<style scoped>\n",
       "    .dataframe tbody tr th:only-of-type {\n",
       "        vertical-align: middle;\n",
       "    }\n",
       "\n",
       "    .dataframe tbody tr th {\n",
       "        vertical-align: top;\n",
       "    }\n",
       "\n",
       "    .dataframe thead th {\n",
       "        text-align: right;\n",
       "    }\n",
       "</style>\n",
       "<table border=\"1\" class=\"dataframe\">\n",
       "  <thead>\n",
       "    <tr style=\"text-align: right;\">\n",
       "      <th></th>\n",
       "      <th>Ticker</th>\n",
       "      <th>Balance</th>\n",
       "      <th>Percent</th>\n",
       "      <th>Benchmark</th>\n",
       "    </tr>\n",
       "  </thead>\n",
       "  <tbody>\n",
       "    <tr>\n",
       "      <th>0</th>\n",
       "      <td>BIL</td>\n",
       "      <td>439403</td>\n",
       "      <td>41.048399</td>\n",
       "      <td>BIL</td>\n",
       "    </tr>\n",
       "    <tr>\n",
       "      <th>1</th>\n",
       "      <td>VBTLX</td>\n",
       "      <td>119859</td>\n",
       "      <td>11.197056</td>\n",
       "      <td>BND</td>\n",
       "    </tr>\n",
       "    <tr>\n",
       "      <th>2</th>\n",
       "      <td>VGSLX</td>\n",
       "      <td>24596</td>\n",
       "      <td>2.297723</td>\n",
       "      <td>VNQ</td>\n",
       "    </tr>\n",
       "    <tr>\n",
       "      <th>3</th>\n",
       "      <td>VIMAX</td>\n",
       "      <td>74075</td>\n",
       "      <td>6.919980</td>\n",
       "      <td>VTI</td>\n",
       "    </tr>\n",
       "    <tr>\n",
       "      <th>4</th>\n",
       "      <td>VSIAX</td>\n",
       "      <td>63498</td>\n",
       "      <td>5.931892</td>\n",
       "      <td>IWN</td>\n",
       "    </tr>\n",
       "    <tr>\n",
       "      <th>5</th>\n",
       "      <td>VTABX</td>\n",
       "      <td>92483</td>\n",
       "      <td>8.639629</td>\n",
       "      <td>BNDX</td>\n",
       "    </tr>\n",
       "    <tr>\n",
       "      <th>6</th>\n",
       "      <td>VTIAX</td>\n",
       "      <td>120105</td>\n",
       "      <td>11.220037</td>\n",
       "      <td>VEU</td>\n",
       "    </tr>\n",
       "    <tr>\n",
       "      <th>7</th>\n",
       "      <td>VTSAX</td>\n",
       "      <td>115457</td>\n",
       "      <td>10.785828</td>\n",
       "      <td>VTI</td>\n",
       "    </tr>\n",
       "    <tr>\n",
       "      <th>8</th>\n",
       "      <td>VTWAX</td>\n",
       "      <td>20975</td>\n",
       "      <td>1.959454</td>\n",
       "      <td>VT</td>\n",
       "    </tr>\n",
       "  </tbody>\n",
       "</table>\n",
       "</div>"
      ],
      "text/plain": [
       "  Ticker  Balance    Percent Benchmark\n",
       "0    BIL   439403  41.048399       BIL\n",
       "1  VBTLX   119859  11.197056       BND\n",
       "2  VGSLX    24596   2.297723       VNQ\n",
       "3  VIMAX    74075   6.919980       VTI\n",
       "4  VSIAX    63498   5.931892       IWN\n",
       "5  VTABX    92483   8.639629      BNDX\n",
       "6  VTIAX   120105  11.220037       VEU\n",
       "7  VTSAX   115457  10.785828       VTI\n",
       "8  VTWAX    20975   1.959454        VT"
      ]
     },
     "execution_count": 22,
     "metadata": {},
     "output_type": "execute_result"
    }
   ],
   "source": [
    "# Add a new column for the benchmark index\n",
    "df_current_allocation['Benchmark'] = df_current_allocation['Ticker'].map(benchmark_indices)\n",
    "df_current_allocation"
   ]
  },
  {
   "cell_type": "code",
   "execution_count": 23,
   "metadata": {},
   "outputs": [
    {
     "data": {
      "text/html": [
       "<div>\n",
       "<style scoped>\n",
       "    .dataframe tbody tr th:only-of-type {\n",
       "        vertical-align: middle;\n",
       "    }\n",
       "\n",
       "    .dataframe tbody tr th {\n",
       "        vertical-align: top;\n",
       "    }\n",
       "\n",
       "    .dataframe thead th {\n",
       "        text-align: right;\n",
       "    }\n",
       "</style>\n",
       "<table border=\"1\" class=\"dataframe\">\n",
       "  <thead>\n",
       "    <tr style=\"text-align: right;\">\n",
       "      <th></th>\n",
       "      <th>Account Type</th>\n",
       "      <th>Owner</th>\n",
       "      <th>Balance</th>\n",
       "    </tr>\n",
       "  </thead>\n",
       "  <tbody>\n",
       "    <tr>\n",
       "      <th>0</th>\n",
       "      <td>Brokerage</td>\n",
       "      <td>Joint</td>\n",
       "      <td>328818</td>\n",
       "    </tr>\n",
       "    <tr>\n",
       "      <th>1</th>\n",
       "      <td>Brokerage</td>\n",
       "      <td>Wife</td>\n",
       "      <td>11913</td>\n",
       "    </tr>\n",
       "    <tr>\n",
       "      <th>2</th>\n",
       "      <td>IRA</td>\n",
       "      <td>Husband</td>\n",
       "      <td>414518</td>\n",
       "    </tr>\n",
       "    <tr>\n",
       "      <th>3</th>\n",
       "      <td>IRA</td>\n",
       "      <td>Wife</td>\n",
       "      <td>170696</td>\n",
       "    </tr>\n",
       "    <tr>\n",
       "      <th>4</th>\n",
       "      <td>SEP IRA</td>\n",
       "      <td>Wife</td>\n",
       "      <td>144506</td>\n",
       "    </tr>\n",
       "  </tbody>\n",
       "</table>\n",
       "</div>"
      ],
      "text/plain": [
       "  Account Type    Owner  Balance\n",
       "0    Brokerage    Joint   328818\n",
       "1    Brokerage     Wife    11913\n",
       "2          IRA  Husband   414518\n",
       "3          IRA     Wife   170696\n",
       "4      SEP IRA     Wife   144506"
      ]
     },
     "execution_count": 23,
     "metadata": {},
     "output_type": "execute_result"
    }
   ],
   "source": [
    "df_grp_brokerage = df_brokerage_cash.groupby(['Account Type', 'Owner'])['Balance'].sum()\n",
    "df_grp_retirement = df_retirement_accts.groupby(['Account Type', 'Owner'])['Balance'].sum()\n",
    "df_grp_all = pd.concat([df_grp_brokerage, df_grp_retirement], axis=0).reset_index()\n",
    "df_grp_all"
   ]
  },
  {
   "cell_type": "code",
   "execution_count": 24,
   "metadata": {},
   "outputs": [
    {
     "data": {
      "text/html": [
       "<div>\n",
       "<style scoped>\n",
       "    .dataframe tbody tr th:only-of-type {\n",
       "        vertical-align: middle;\n",
       "    }\n",
       "\n",
       "    .dataframe tbody tr th {\n",
       "        vertical-align: top;\n",
       "    }\n",
       "\n",
       "    .dataframe thead th {\n",
       "        text-align: right;\n",
       "    }\n",
       "</style>\n",
       "<table border=\"1\" class=\"dataframe\">\n",
       "  <thead>\n",
       "    <tr style=\"text-align: right;\">\n",
       "      <th></th>\n",
       "      <th>Desc</th>\n",
       "      <th>Ticker</th>\n",
       "      <th>Asset Class</th>\n",
       "      <th>Percent</th>\n",
       "      <th>amt_to_buy</th>\n",
       "    </tr>\n",
       "  </thead>\n",
       "  <tbody>\n",
       "    <tr>\n",
       "      <th>0</th>\n",
       "      <td>Vanguard Total Stock Market ETF</td>\n",
       "      <td>VTI</td>\n",
       "      <td>Stock</td>\n",
       "      <td>19.8</td>\n",
       "      <td>211949.0</td>\n",
       "    </tr>\n",
       "    <tr>\n",
       "      <th>1</th>\n",
       "      <td>Vanguard FTSE Developed Markets ETF</td>\n",
       "      <td>VEA</td>\n",
       "      <td>Stock</td>\n",
       "      <td>16.7</td>\n",
       "      <td>178765.0</td>\n",
       "    </tr>\n",
       "    <tr>\n",
       "      <th>2</th>\n",
       "      <td>Vanguard FTSE Emerging Markets ETF</td>\n",
       "      <td>VWO</td>\n",
       "      <td>Stock</td>\n",
       "      <td>10.3</td>\n",
       "      <td>110256.0</td>\n",
       "    </tr>\n",
       "    <tr>\n",
       "      <th>3</th>\n",
       "      <td>Vanguard Value ETF</td>\n",
       "      <td>VTV</td>\n",
       "      <td>Stock</td>\n",
       "      <td>5.3</td>\n",
       "      <td>56734.0</td>\n",
       "    </tr>\n",
       "    <tr>\n",
       "      <th>4</th>\n",
       "      <td>Vanguard Mid-Cap Value ETF</td>\n",
       "      <td>VOE</td>\n",
       "      <td>Stock</td>\n",
       "      <td>4.3</td>\n",
       "      <td>46029.0</td>\n",
       "    </tr>\n",
       "    <tr>\n",
       "      <th>5</th>\n",
       "      <td>Vanguard Small-Cap Value ETF</td>\n",
       "      <td>VBR</td>\n",
       "      <td>Stock</td>\n",
       "      <td>3.6</td>\n",
       "      <td>38536.0</td>\n",
       "    </tr>\n",
       "    <tr>\n",
       "      <th>6</th>\n",
       "      <td>Vanguard Total Bond Market Index Adm</td>\n",
       "      <td>VBTLX</td>\n",
       "      <td>Bond</td>\n",
       "      <td>12.3</td>\n",
       "      <td>131665.0</td>\n",
       "    </tr>\n",
       "    <tr>\n",
       "      <th>7</th>\n",
       "      <td>Vanguard Total International Bond ETF</td>\n",
       "      <td>BNDX</td>\n",
       "      <td>Bond</td>\n",
       "      <td>14.7</td>\n",
       "      <td>157356.0</td>\n",
       "    </tr>\n",
       "    <tr>\n",
       "      <th>8</th>\n",
       "      <td>Vanguard Emerging Markets Bond Admiral</td>\n",
       "      <td>VEGBX</td>\n",
       "      <td>Bond</td>\n",
       "      <td>8.0</td>\n",
       "      <td>85636.0</td>\n",
       "    </tr>\n",
       "    <tr>\n",
       "      <th>9</th>\n",
       "      <td>Vanguard Short-Term Infl-Prot Secs ETF</td>\n",
       "      <td>VTIP</td>\n",
       "      <td>Bond</td>\n",
       "      <td>5.0</td>\n",
       "      <td>53523.0</td>\n",
       "    </tr>\n",
       "  </tbody>\n",
       "</table>\n",
       "</div>"
      ],
      "text/plain": [
       "                                      Desc Ticker Asset Class  Percent  \\\n",
       "0         Vanguard Total Stock Market ETF     VTI       Stock     19.8   \n",
       "1     Vanguard FTSE Developed Markets ETF     VEA       Stock     16.7   \n",
       "2      Vanguard FTSE Emerging Markets ETF     VWO       Stock     10.3   \n",
       "3                      Vanguard Value ETF     VTV       Stock      5.3   \n",
       "4              Vanguard Mid-Cap Value ETF     VOE       Stock      4.3   \n",
       "5            Vanguard Small-Cap Value ETF     VBR       Stock      3.6   \n",
       "6     Vanguard Total Bond Market Index Adm  VBTLX        Bond     12.3   \n",
       "7   Vanguard Total International Bond ETF    BNDX        Bond     14.7   \n",
       "8  Vanguard Emerging Markets Bond Admiral   VEGBX        Bond      8.0   \n",
       "9  Vanguard Short-Term Infl-Prot Secs ETF    VTIP        Bond      5.0   \n",
       "\n",
       "   amt_to_buy  \n",
       "0    211949.0  \n",
       "1    178765.0  \n",
       "2    110256.0  \n",
       "3     56734.0  \n",
       "4     46029.0  \n",
       "5     38536.0  \n",
       "6    131665.0  \n",
       "7    157356.0  \n",
       "8     85636.0  \n",
       "9     53523.0  "
      ]
     },
     "execution_count": 24,
     "metadata": {},
     "output_type": "execute_result"
    }
   ],
   "source": [
    "# Based on the percents for each asset class, calculate the amount to buy for each asset class\n",
    "df_new_portfolio['amt_to_buy'] = round((df_new_portfolio['Percent']/100) * sum_reallocation_balance)\n",
    "df_new_portfolio.head(15)"
   ]
  },
  {
   "cell_type": "code",
   "execution_count": 25,
   "metadata": {},
   "outputs": [],
   "source": [
    "# Benchmark indices for each fund in the new portfolio\n",
    "benchmark_indices = {\n",
    "    'VTI': 'SPY',   # S&P 500 ETF\n",
    "    'VEA': 'VEU',   # Vanguard FTSE All-World ex-US ETF\n",
    "    'VWO': 'EEM',   # iShares MSCI Emerging Markets ETF\n",
    "    'VTV': 'VOO',   # Vanguard S&P 500 ETF\n",
    "    'VOE': 'VO',    # Vanguard Mid-Cap ETF\n",
    "    'VBR': 'IWN',   # iShares Russell 2000 Value ETF\n",
    "    'VBTLX': 'BND', # Vanguard Total Bond Market ETF\n",
    "    'BNDX': 'AGG',  # iShares Core U.S. Aggregate Bond ETF\n",
    "    'VEGBX': 'IUSB',# iShares Core Total USD Bond Market ETF\n",
    "    'VTIP': 'SCHP'  # Schwab U.S. TIPS ETF\n",
    "}"
   ]
  },
  {
   "cell_type": "code",
   "execution_count": 26,
   "metadata": {},
   "outputs": [
    {
     "data": {
      "text/html": [
       "<div>\n",
       "<style scoped>\n",
       "    .dataframe tbody tr th:only-of-type {\n",
       "        vertical-align: middle;\n",
       "    }\n",
       "\n",
       "    .dataframe tbody tr th {\n",
       "        vertical-align: top;\n",
       "    }\n",
       "\n",
       "    .dataframe thead th {\n",
       "        text-align: right;\n",
       "    }\n",
       "</style>\n",
       "<table border=\"1\" class=\"dataframe\">\n",
       "  <thead>\n",
       "    <tr style=\"text-align: right;\">\n",
       "      <th></th>\n",
       "      <th>Desc</th>\n",
       "      <th>Ticker</th>\n",
       "      <th>Asset Class</th>\n",
       "      <th>Percent</th>\n",
       "      <th>amt_to_buy</th>\n",
       "      <th>Benchmark</th>\n",
       "    </tr>\n",
       "  </thead>\n",
       "  <tbody>\n",
       "    <tr>\n",
       "      <th>0</th>\n",
       "      <td>Vanguard Total Stock Market ETF</td>\n",
       "      <td>VTI</td>\n",
       "      <td>Stock</td>\n",
       "      <td>19.8</td>\n",
       "      <td>211949.0</td>\n",
       "      <td>SPY</td>\n",
       "    </tr>\n",
       "    <tr>\n",
       "      <th>1</th>\n",
       "      <td>Vanguard FTSE Developed Markets ETF</td>\n",
       "      <td>VEA</td>\n",
       "      <td>Stock</td>\n",
       "      <td>16.7</td>\n",
       "      <td>178765.0</td>\n",
       "      <td>VEU</td>\n",
       "    </tr>\n",
       "    <tr>\n",
       "      <th>2</th>\n",
       "      <td>Vanguard FTSE Emerging Markets ETF</td>\n",
       "      <td>VWO</td>\n",
       "      <td>Stock</td>\n",
       "      <td>10.3</td>\n",
       "      <td>110256.0</td>\n",
       "      <td>EEM</td>\n",
       "    </tr>\n",
       "    <tr>\n",
       "      <th>3</th>\n",
       "      <td>Vanguard Value ETF</td>\n",
       "      <td>VTV</td>\n",
       "      <td>Stock</td>\n",
       "      <td>5.3</td>\n",
       "      <td>56734.0</td>\n",
       "      <td>VOO</td>\n",
       "    </tr>\n",
       "    <tr>\n",
       "      <th>4</th>\n",
       "      <td>Vanguard Mid-Cap Value ETF</td>\n",
       "      <td>VOE</td>\n",
       "      <td>Stock</td>\n",
       "      <td>4.3</td>\n",
       "      <td>46029.0</td>\n",
       "      <td>VO</td>\n",
       "    </tr>\n",
       "    <tr>\n",
       "      <th>5</th>\n",
       "      <td>Vanguard Small-Cap Value ETF</td>\n",
       "      <td>VBR</td>\n",
       "      <td>Stock</td>\n",
       "      <td>3.6</td>\n",
       "      <td>38536.0</td>\n",
       "      <td>IWN</td>\n",
       "    </tr>\n",
       "    <tr>\n",
       "      <th>6</th>\n",
       "      <td>Vanguard Total Bond Market Index Adm</td>\n",
       "      <td>VBTLX</td>\n",
       "      <td>Bond</td>\n",
       "      <td>12.3</td>\n",
       "      <td>131665.0</td>\n",
       "      <td>BND</td>\n",
       "    </tr>\n",
       "    <tr>\n",
       "      <th>7</th>\n",
       "      <td>Vanguard Total International Bond ETF</td>\n",
       "      <td>BNDX</td>\n",
       "      <td>Bond</td>\n",
       "      <td>14.7</td>\n",
       "      <td>157356.0</td>\n",
       "      <td>AGG</td>\n",
       "    </tr>\n",
       "    <tr>\n",
       "      <th>8</th>\n",
       "      <td>Vanguard Emerging Markets Bond Admiral</td>\n",
       "      <td>VEGBX</td>\n",
       "      <td>Bond</td>\n",
       "      <td>8.0</td>\n",
       "      <td>85636.0</td>\n",
       "      <td>IUSB</td>\n",
       "    </tr>\n",
       "    <tr>\n",
       "      <th>9</th>\n",
       "      <td>Vanguard Short-Term Infl-Prot Secs ETF</td>\n",
       "      <td>VTIP</td>\n",
       "      <td>Bond</td>\n",
       "      <td>5.0</td>\n",
       "      <td>53523.0</td>\n",
       "      <td>SCHP</td>\n",
       "    </tr>\n",
       "  </tbody>\n",
       "</table>\n",
       "</div>"
      ],
      "text/plain": [
       "                                      Desc Ticker Asset Class  Percent  \\\n",
       "0         Vanguard Total Stock Market ETF     VTI       Stock     19.8   \n",
       "1     Vanguard FTSE Developed Markets ETF     VEA       Stock     16.7   \n",
       "2      Vanguard FTSE Emerging Markets ETF     VWO       Stock     10.3   \n",
       "3                      Vanguard Value ETF     VTV       Stock      5.3   \n",
       "4              Vanguard Mid-Cap Value ETF     VOE       Stock      4.3   \n",
       "5            Vanguard Small-Cap Value ETF     VBR       Stock      3.6   \n",
       "6     Vanguard Total Bond Market Index Adm  VBTLX        Bond     12.3   \n",
       "7   Vanguard Total International Bond ETF    BNDX        Bond     14.7   \n",
       "8  Vanguard Emerging Markets Bond Admiral   VEGBX        Bond      8.0   \n",
       "9  Vanguard Short-Term Infl-Prot Secs ETF    VTIP        Bond      5.0   \n",
       "\n",
       "   amt_to_buy Benchmark  \n",
       "0    211949.0       SPY  \n",
       "1    178765.0       VEU  \n",
       "2    110256.0       EEM  \n",
       "3     56734.0       VOO  \n",
       "4     46029.0        VO  \n",
       "5     38536.0       IWN  \n",
       "6    131665.0       BND  \n",
       "7    157356.0       AGG  \n",
       "8     85636.0      IUSB  \n",
       "9     53523.0      SCHP  "
      ]
     },
     "execution_count": 26,
     "metadata": {},
     "output_type": "execute_result"
    }
   ],
   "source": [
    "# Add a new column for the benchmark index\n",
    "df_new_portfolio['Benchmark'] = df_new_portfolio['Ticker'].map(benchmark_indices)\n",
    "df_new_portfolio"
   ]
  },
  {
   "cell_type": "markdown",
   "metadata": {},
   "source": [
    "Now we know how much to buy of each fund. The final step is to figure out the allocation accross all of the invesment account types, given their buying power."
   ]
  },
  {
   "cell_type": "code",
   "execution_count": 27,
   "metadata": {},
   "outputs": [
    {
     "name": "stdout",
     "output_type": "stream",
     "text": [
      "Total amount split up: $1,070,449\n"
     ]
    }
   ],
   "source": [
    "# These amounts should match\n",
    "print(f'Total amount split up: ${df_new_portfolio['amt_to_buy'].sum():,.0f}')"
   ]
  },
  {
   "cell_type": "code",
   "execution_count": 28,
   "metadata": {},
   "outputs": [
    {
     "name": "stdout",
     "output_type": "stream",
     "text": [
      "Total bond percent: 40\n",
      "Total stock percent: 60.0\n"
     ]
    }
   ],
   "source": [
    "# Recompute these percentages, because we triple check everything\n",
    "print(f'Total bond percent: {round(df_new_portfolio[df_new_portfolio['Asset Class'] == 'Bond']['Percent'].sum())}')\n",
    "print(f'Total stock percent: {round(df_new_portfolio[df_new_portfolio['Asset Class'] == 'Stock']['Percent'].sum(), 0)}')"
   ]
  },
  {
   "cell_type": "code",
   "execution_count": 29,
   "metadata": {},
   "outputs": [],
   "source": [
    "#\n",
    "def reallocate(new_portfolio: pd.DataFrame, current_accounts: pd.DataFrame) -> pd.DataFrame: \n",
    "    '''401k-client-data.xlsx is the original data file. It is read in and the brokerage accounts are\n",
    "    separated out. The brokerage accounts are not touched except for any cash in them. The cash is\n",
    "    reallocated. The remaining accounts are rebalanced based on the 60-40 portfolio. The new balances\n",
    "    are written to std out.\n",
    "    Priorities:\n",
    "    1. Cash in brokerage accounts is used to purchase stocks (not bonds).\n",
    "    2. There is no need to divide every account up to have every investment in the 60/40 percentages. Fill\n",
    "    up one bucket, then move on to the next.\n",
    "    '''\n",
    "    # make a copy to preserve the original\n",
    "    trades = pd.DataFrame(columns=['Account Type', 'Owner', 'Ticker', 'Amount'])  # Define columns for clarity\n",
    "\n",
    "    # We're altering the balances during the process, so work on a copy  \n",
    "    accounts = current_accounts.copy()\n",
    "    # These are the fund to buy and the amount to buy\n",
    "    for index, fund in new_portfolio.iterrows():\n",
    "        # Each fund has a fund balance to buy. We might be able to get it all in one account, \n",
    "        # or have to split it over accounts.\n",
    "        fund_balance = fund['amt_to_buy']\n",
    "        # Loop over each account type\n",
    "        acct_balance = 0\n",
    "        for index, acct in accounts.iterrows():\n",
    "\n",
    "            # Each account has a balance to make trades from\n",
    "            acct_balance = accounts.at[index, 'Balance']\n",
    "\n",
    "            # If the account balance reaches zero, we move on to the next account\n",
    "            if (acct_balance > 0):\n",
    "\n",
    "                # If the account has more money than we need, we buy all we need of this fund\n",
    "                if acct_balance >= fund_balance:\n",
    "                    amt_to_buy = fund_balance\n",
    "                    # Create a new trade to make from the current account and fund\n",
    "                    new_trade = pd.DataFrame({'Account Type': [acct['Account Type']], 'Owner': [acct['Owner']], \n",
    "                                            'Ticker': [fund['Ticker']], 'Amount': [amt_to_buy]})\n",
    "                    trades = pd.concat([trades, new_trade], ignore_index=True)\n",
    "                    # Update the account balance by subtracting the amount we just bought.\n",
    "                    # This becomes the 'leftover' to be used for the next fund.\n",
    "                    accounts.at[index, 'Balance'] = acct_balance - fund_balance\n",
    "                    # This fund has no more cash buying power. Break out of the account loop to move\n",
    "                    # on to the next fund.\n",
    "                    break\n",
    "                # else the account has less money, and the fund will need to be split over multiple accounts\n",
    "                else:\n",
    "                    # Create a new trade for the current fund in this account. Buy the remaining balance left\n",
    "                    # in the account.\n",
    "                    amt_to_buy = acct_balance\n",
    "                    new_trade = pd.DataFrame({'Account Type': [acct['Account Type']], 'Owner': [acct['Owner']], \n",
    "                                            'Ticker': [fund['Ticker']], 'Amount': [amt_to_buy]})\n",
    "                    trades = pd.concat([trades, new_trade], ignore_index=True)\n",
    "                    \n",
    "                    # This account now has no more buying power. The account will be skipped the remaining\n",
    "                    # iterations because it's balance is zero.\n",
    "                    accounts.at[index, 'Balance'] = 0\n",
    "                    # Reduce the fund balance. The fund balance will be split over into the next account loop\n",
    "                    fund_balance -= acct_balance\n",
    "                    #acct_balance = 0\n",
    "    \n",
    "    return trades\n",
    "        \n",
    "\n",
    "                   \n",
    "            "
   ]
  },
  {
   "cell_type": "code",
   "execution_count": 30,
   "metadata": {},
   "outputs": [
    {
     "name": "stderr",
     "output_type": "stream",
     "text": [
      "/var/folders/0v/80zxmry158l85b2sy7ywwj5w0000gn/T/ipykernel_34552/3298889839.py:38: FutureWarning:\n",
      "\n",
      "The behavior of DataFrame concatenation with empty or all-NA entries is deprecated. In a future version, this will no longer exclude empty or all-NA columns when determining the result dtypes. To retain the old behavior, exclude the relevant entries before the concat operation.\n",
      "\n"
     ]
    },
    {
     "data": {
      "text/html": [
       "<div>\n",
       "<style scoped>\n",
       "    .dataframe tbody tr th:only-of-type {\n",
       "        vertical-align: middle;\n",
       "    }\n",
       "\n",
       "    .dataframe tbody tr th {\n",
       "        vertical-align: top;\n",
       "    }\n",
       "\n",
       "    .dataframe thead th {\n",
       "        text-align: right;\n",
       "    }\n",
       "</style>\n",
       "<table border=\"1\" class=\"dataframe\">\n",
       "  <thead>\n",
       "    <tr style=\"text-align: right;\">\n",
       "      <th></th>\n",
       "      <th>Account Type</th>\n",
       "      <th>Owner</th>\n",
       "      <th>Ticker</th>\n",
       "      <th>Amount</th>\n",
       "    </tr>\n",
       "  </thead>\n",
       "  <tbody>\n",
       "    <tr>\n",
       "      <th>0</th>\n",
       "      <td>Brokerage</td>\n",
       "      <td>Joint</td>\n",
       "      <td>VTI</td>\n",
       "      <td>211949.0</td>\n",
       "    </tr>\n",
       "    <tr>\n",
       "      <th>1</th>\n",
       "      <td>Brokerage</td>\n",
       "      <td>Joint</td>\n",
       "      <td>VEA</td>\n",
       "      <td>116869.0</td>\n",
       "    </tr>\n",
       "    <tr>\n",
       "      <th>2</th>\n",
       "      <td>Brokerage</td>\n",
       "      <td>Wife</td>\n",
       "      <td>VEA</td>\n",
       "      <td>11913.0</td>\n",
       "    </tr>\n",
       "    <tr>\n",
       "      <th>3</th>\n",
       "      <td>IRA</td>\n",
       "      <td>Husband</td>\n",
       "      <td>VEA</td>\n",
       "      <td>49983.0</td>\n",
       "    </tr>\n",
       "    <tr>\n",
       "      <th>4</th>\n",
       "      <td>IRA</td>\n",
       "      <td>Husband</td>\n",
       "      <td>VWO</td>\n",
       "      <td>110256.0</td>\n",
       "    </tr>\n",
       "    <tr>\n",
       "      <th>5</th>\n",
       "      <td>IRA</td>\n",
       "      <td>Husband</td>\n",
       "      <td>VTV</td>\n",
       "      <td>56734.0</td>\n",
       "    </tr>\n",
       "    <tr>\n",
       "      <th>6</th>\n",
       "      <td>IRA</td>\n",
       "      <td>Husband</td>\n",
       "      <td>VOE</td>\n",
       "      <td>46029.0</td>\n",
       "    </tr>\n",
       "    <tr>\n",
       "      <th>7</th>\n",
       "      <td>IRA</td>\n",
       "      <td>Husband</td>\n",
       "      <td>VBR</td>\n",
       "      <td>38536.0</td>\n",
       "    </tr>\n",
       "    <tr>\n",
       "      <th>8</th>\n",
       "      <td>IRA</td>\n",
       "      <td>Husband</td>\n",
       "      <td>VBTLX</td>\n",
       "      <td>112980.0</td>\n",
       "    </tr>\n",
       "    <tr>\n",
       "      <th>9</th>\n",
       "      <td>IRA</td>\n",
       "      <td>Wife</td>\n",
       "      <td>VBTLX</td>\n",
       "      <td>18685.0</td>\n",
       "    </tr>\n",
       "    <tr>\n",
       "      <th>10</th>\n",
       "      <td>IRA</td>\n",
       "      <td>Wife</td>\n",
       "      <td>BNDX</td>\n",
       "      <td>152011.0</td>\n",
       "    </tr>\n",
       "    <tr>\n",
       "      <th>11</th>\n",
       "      <td>SEP IRA</td>\n",
       "      <td>Wife</td>\n",
       "      <td>BNDX</td>\n",
       "      <td>5345.0</td>\n",
       "    </tr>\n",
       "    <tr>\n",
       "      <th>12</th>\n",
       "      <td>SEP IRA</td>\n",
       "      <td>Wife</td>\n",
       "      <td>VEGBX</td>\n",
       "      <td>85636.0</td>\n",
       "    </tr>\n",
       "    <tr>\n",
       "      <th>13</th>\n",
       "      <td>SEP IRA</td>\n",
       "      <td>Wife</td>\n",
       "      <td>VTIP</td>\n",
       "      <td>53523.0</td>\n",
       "    </tr>\n",
       "  </tbody>\n",
       "</table>\n",
       "</div>"
      ],
      "text/plain": [
       "   Account Type    Owner Ticker    Amount\n",
       "0     Brokerage    Joint    VTI  211949.0\n",
       "1     Brokerage    Joint    VEA  116869.0\n",
       "2     Brokerage     Wife    VEA   11913.0\n",
       "3           IRA  Husband    VEA   49983.0\n",
       "4           IRA  Husband    VWO  110256.0\n",
       "5           IRA  Husband    VTV   56734.0\n",
       "6           IRA  Husband    VOE   46029.0\n",
       "7           IRA  Husband    VBR   38536.0\n",
       "8           IRA  Husband  VBTLX  112980.0\n",
       "9           IRA     Wife  VBTLX   18685.0\n",
       "10          IRA     Wife   BNDX  152011.0\n",
       "11      SEP IRA     Wife   BNDX    5345.0\n",
       "12      SEP IRA     Wife  VEGBX   85636.0\n",
       "13      SEP IRA     Wife   VTIP   53523.0"
      ]
     },
     "execution_count": 30,
     "metadata": {},
     "output_type": "execute_result"
    }
   ],
   "source": [
    "# Reallocate and print the results\n",
    "trades = reallocate(df_new_portfolio, df_grp_all)\n",
    "trades"
   ]
  },
  {
   "cell_type": "code",
   "execution_count": 31,
   "metadata": {},
   "outputs": [
    {
     "name": "stdout",
     "output_type": "stream",
     "text": [
      "Amount to buy: $1,070,449\n"
     ]
    }
   ],
   "source": [
    "# Verify the total amount to buy matches what we calculated earlier\n",
    "print(f'Amount to buy: ${trades['Amount'].sum():,.0f}')"
   ]
  },
  {
   "cell_type": "markdown",
   "metadata": {},
   "source": [
    "We now have a list of trades to make, for each account.\n",
    "\n",
    "**Note** Bonds are in the input file last. Which means they will get allocated last. If the input account list had the brokerage accounts listed last, the bonds would go into this account. That's probably not what you want, since bonds will kick off income and this would create a yearly tax hit. The code could have been modified to build additional rules. There is no shortage of rules that could be coded. In the end everything has to be verified by human eyes, otherwise it's a violation of due-diligence. You don't want investing mistakes to happen by blindly trusting software (like this). Trust but Verify."
   ]
  },
  {
   "cell_type": "markdown",
   "metadata": {},
   "source": [
    "# Performance\n",
    "\n",
    "Many people want to see how well the new portfolio compares to the old one. You can't tell a client it doesn't matter (it doesn't). Sometimes the new portfolio will perform better than the old one when backtested, and sometimes it won't. Again - it doesn't matter. A 100% stock portfolio will outperform a 60/40 over any 15-year period. \n",
    "\n",
    "What matters most is - are the goals met? Are the risk-adjusted returns appropriate for the goals? Returns tell half the story."
   ]
  },
  {
   "cell_type": "code",
   "execution_count": 32,
   "metadata": {},
   "outputs": [
    {
     "data": {
      "text/html": [
       "<div>\n",
       "<style scoped>\n",
       "    .dataframe tbody tr th:only-of-type {\n",
       "        vertical-align: middle;\n",
       "    }\n",
       "\n",
       "    .dataframe tbody tr th {\n",
       "        vertical-align: top;\n",
       "    }\n",
       "\n",
       "    .dataframe thead th {\n",
       "        text-align: right;\n",
       "    }\n",
       "</style>\n",
       "<table border=\"1\" class=\"dataframe\">\n",
       "  <thead>\n",
       "    <tr style=\"text-align: right;\">\n",
       "      <th></th>\n",
       "      <th>Desc</th>\n",
       "      <th>Ticker</th>\n",
       "      <th>Asset Class</th>\n",
       "      <th>Percent</th>\n",
       "      <th>amt_to_buy</th>\n",
       "      <th>Benchmark</th>\n",
       "    </tr>\n",
       "  </thead>\n",
       "  <tbody>\n",
       "    <tr>\n",
       "      <th>0</th>\n",
       "      <td>Vanguard Total Stock Market ETF</td>\n",
       "      <td>VTI</td>\n",
       "      <td>Stock</td>\n",
       "      <td>19.8</td>\n",
       "      <td>211949.0</td>\n",
       "      <td>SPY</td>\n",
       "    </tr>\n",
       "    <tr>\n",
       "      <th>1</th>\n",
       "      <td>Vanguard FTSE Developed Markets ETF</td>\n",
       "      <td>VEA</td>\n",
       "      <td>Stock</td>\n",
       "      <td>16.7</td>\n",
       "      <td>178765.0</td>\n",
       "      <td>VEU</td>\n",
       "    </tr>\n",
       "    <tr>\n",
       "      <th>2</th>\n",
       "      <td>Vanguard FTSE Emerging Markets ETF</td>\n",
       "      <td>VWO</td>\n",
       "      <td>Stock</td>\n",
       "      <td>10.3</td>\n",
       "      <td>110256.0</td>\n",
       "      <td>EEM</td>\n",
       "    </tr>\n",
       "    <tr>\n",
       "      <th>3</th>\n",
       "      <td>Vanguard Value ETF</td>\n",
       "      <td>VTV</td>\n",
       "      <td>Stock</td>\n",
       "      <td>5.3</td>\n",
       "      <td>56734.0</td>\n",
       "      <td>VOO</td>\n",
       "    </tr>\n",
       "    <tr>\n",
       "      <th>4</th>\n",
       "      <td>Vanguard Mid-Cap Value ETF</td>\n",
       "      <td>VOE</td>\n",
       "      <td>Stock</td>\n",
       "      <td>4.3</td>\n",
       "      <td>46029.0</td>\n",
       "      <td>VO</td>\n",
       "    </tr>\n",
       "    <tr>\n",
       "      <th>5</th>\n",
       "      <td>Vanguard Small-Cap Value ETF</td>\n",
       "      <td>VBR</td>\n",
       "      <td>Stock</td>\n",
       "      <td>3.6</td>\n",
       "      <td>38536.0</td>\n",
       "      <td>IWN</td>\n",
       "    </tr>\n",
       "    <tr>\n",
       "      <th>6</th>\n",
       "      <td>Vanguard Total Bond Market Index Adm</td>\n",
       "      <td>VBTLX</td>\n",
       "      <td>Bond</td>\n",
       "      <td>12.3</td>\n",
       "      <td>131665.0</td>\n",
       "      <td>BND</td>\n",
       "    </tr>\n",
       "    <tr>\n",
       "      <th>7</th>\n",
       "      <td>Vanguard Total International Bond ETF</td>\n",
       "      <td>BNDX</td>\n",
       "      <td>Bond</td>\n",
       "      <td>14.7</td>\n",
       "      <td>157356.0</td>\n",
       "      <td>AGG</td>\n",
       "    </tr>\n",
       "    <tr>\n",
       "      <th>8</th>\n",
       "      <td>Vanguard Emerging Markets Bond Admiral</td>\n",
       "      <td>VEGBX</td>\n",
       "      <td>Bond</td>\n",
       "      <td>8.0</td>\n",
       "      <td>85636.0</td>\n",
       "      <td>IUSB</td>\n",
       "    </tr>\n",
       "    <tr>\n",
       "      <th>9</th>\n",
       "      <td>Vanguard Short-Term Infl-Prot Secs ETF</td>\n",
       "      <td>VTIP</td>\n",
       "      <td>Bond</td>\n",
       "      <td>5.0</td>\n",
       "      <td>53523.0</td>\n",
       "      <td>SCHP</td>\n",
       "    </tr>\n",
       "  </tbody>\n",
       "</table>\n",
       "</div>"
      ],
      "text/plain": [
       "                                      Desc Ticker Asset Class  Percent  \\\n",
       "0         Vanguard Total Stock Market ETF     VTI       Stock     19.8   \n",
       "1     Vanguard FTSE Developed Markets ETF     VEA       Stock     16.7   \n",
       "2      Vanguard FTSE Emerging Markets ETF     VWO       Stock     10.3   \n",
       "3                      Vanguard Value ETF     VTV       Stock      5.3   \n",
       "4              Vanguard Mid-Cap Value ETF     VOE       Stock      4.3   \n",
       "5            Vanguard Small-Cap Value ETF     VBR       Stock      3.6   \n",
       "6     Vanguard Total Bond Market Index Adm  VBTLX        Bond     12.3   \n",
       "7   Vanguard Total International Bond ETF    BNDX        Bond     14.7   \n",
       "8  Vanguard Emerging Markets Bond Admiral   VEGBX        Bond      8.0   \n",
       "9  Vanguard Short-Term Infl-Prot Secs ETF    VTIP        Bond      5.0   \n",
       "\n",
       "   amt_to_buy Benchmark  \n",
       "0    211949.0       SPY  \n",
       "1    178765.0       VEU  \n",
       "2    110256.0       EEM  \n",
       "3     56734.0       VOO  \n",
       "4     46029.0        VO  \n",
       "5     38536.0       IWN  \n",
       "6    131665.0       BND  \n",
       "7    157356.0       AGG  \n",
       "8     85636.0      IUSB  \n",
       "9     53523.0      SCHP  "
      ]
     },
     "execution_count": 32,
     "metadata": {},
     "output_type": "execute_result"
    }
   ],
   "source": [
    "df_new_portfolio.head(15)"
   ]
  },
  {
   "cell_type": "code",
   "execution_count": 33,
   "metadata": {},
   "outputs": [
    {
     "data": {
      "text/html": [
       "<div>\n",
       "<style scoped>\n",
       "    .dataframe tbody tr th:only-of-type {\n",
       "        vertical-align: middle;\n",
       "    }\n",
       "\n",
       "    .dataframe tbody tr th {\n",
       "        vertical-align: top;\n",
       "    }\n",
       "\n",
       "    .dataframe thead th {\n",
       "        text-align: right;\n",
       "    }\n",
       "</style>\n",
       "<table border=\"1\" class=\"dataframe\">\n",
       "  <thead>\n",
       "    <tr style=\"text-align: right;\">\n",
       "      <th></th>\n",
       "      <th>Ticker</th>\n",
       "      <th>Balance</th>\n",
       "      <th>Percent</th>\n",
       "      <th>Benchmark</th>\n",
       "    </tr>\n",
       "  </thead>\n",
       "  <tbody>\n",
       "    <tr>\n",
       "      <th>0</th>\n",
       "      <td>BIL</td>\n",
       "      <td>439403</td>\n",
       "      <td>41.048399</td>\n",
       "      <td>BIL</td>\n",
       "    </tr>\n",
       "    <tr>\n",
       "      <th>1</th>\n",
       "      <td>VBTLX</td>\n",
       "      <td>119859</td>\n",
       "      <td>11.197056</td>\n",
       "      <td>BND</td>\n",
       "    </tr>\n",
       "    <tr>\n",
       "      <th>2</th>\n",
       "      <td>VGSLX</td>\n",
       "      <td>24596</td>\n",
       "      <td>2.297723</td>\n",
       "      <td>VNQ</td>\n",
       "    </tr>\n",
       "    <tr>\n",
       "      <th>3</th>\n",
       "      <td>VIMAX</td>\n",
       "      <td>74075</td>\n",
       "      <td>6.919980</td>\n",
       "      <td>VTI</td>\n",
       "    </tr>\n",
       "    <tr>\n",
       "      <th>4</th>\n",
       "      <td>VSIAX</td>\n",
       "      <td>63498</td>\n",
       "      <td>5.931892</td>\n",
       "      <td>IWN</td>\n",
       "    </tr>\n",
       "    <tr>\n",
       "      <th>5</th>\n",
       "      <td>VTABX</td>\n",
       "      <td>92483</td>\n",
       "      <td>8.639629</td>\n",
       "      <td>BNDX</td>\n",
       "    </tr>\n",
       "    <tr>\n",
       "      <th>6</th>\n",
       "      <td>VTIAX</td>\n",
       "      <td>120105</td>\n",
       "      <td>11.220037</td>\n",
       "      <td>VEU</td>\n",
       "    </tr>\n",
       "    <tr>\n",
       "      <th>7</th>\n",
       "      <td>VTSAX</td>\n",
       "      <td>115457</td>\n",
       "      <td>10.785828</td>\n",
       "      <td>VTI</td>\n",
       "    </tr>\n",
       "    <tr>\n",
       "      <th>8</th>\n",
       "      <td>VTWAX</td>\n",
       "      <td>20975</td>\n",
       "      <td>1.959454</td>\n",
       "      <td>VT</td>\n",
       "    </tr>\n",
       "  </tbody>\n",
       "</table>\n",
       "</div>"
      ],
      "text/plain": [
       "  Ticker  Balance    Percent Benchmark\n",
       "0    BIL   439403  41.048399       BIL\n",
       "1  VBTLX   119859  11.197056       BND\n",
       "2  VGSLX    24596   2.297723       VNQ\n",
       "3  VIMAX    74075   6.919980       VTI\n",
       "4  VSIAX    63498   5.931892       IWN\n",
       "5  VTABX    92483   8.639629      BNDX\n",
       "6  VTIAX   120105  11.220037       VEU\n",
       "7  VTSAX   115457  10.785828       VTI\n",
       "8  VTWAX    20975   1.959454        VT"
      ]
     },
     "execution_count": 33,
     "metadata": {},
     "output_type": "execute_result"
    }
   ],
   "source": [
    "df_current_allocation.head(15)"
   ]
  },
  {
   "cell_type": "code",
   "execution_count": 34,
   "metadata": {},
   "outputs": [
    {
     "name": "stderr",
     "output_type": "stream",
     "text": [
      "No artists with labels found to put in legend.  Note that artists whose label start with an underscore are ignored when legend() is called with no argument.\n",
      "[*********************100%%**********************]  20 of 20 completed\n",
      "[******                12%%                      ]  2 of 16 completed"
     ]
    },
    {
     "name": "stdout",
     "output_type": "stream",
     "text": [
      "The value of the portfolio after 10 years is: $24073.14\n",
      "The final cumulative return after 10 years is: 140.73%\n"
     ]
    },
    {
     "name": "stderr",
     "output_type": "stream",
     "text": [
      "[*********************100%%**********************]  16 of 16 completed"
     ]
    },
    {
     "name": "stdout",
     "output_type": "stream",
     "text": [
      "The value of the portfolio after 10 years is: $18952.14\n",
      "The final cumulative return after 10 years is: 89.52%\n"
     ]
    },
    {
     "name": "stderr",
     "output_type": "stream",
     "text": [
      "\n"
     ]
    },
    {
     "data": {
      "image/png": "[encoded data removed]",
      "text/plain": [
       "<Figure size 1400x700 with 1 Axes>"
      ]
     },
     "metadata": {},
     "output_type": "display_data"
    }
   ],
   "source": [
    "import yfinance as yf\n",
    "import pandas as pd\n",
    "import matplotlib.pyplot as plt\n",
    "\n",
    "portfolios = [df_new_portfolio, df_current_allocation]     \n",
    "\n",
    "# Visualization\n",
    "plt.figure(figsize=(14, 7))\n",
    "plt.xlabel('Date')\n",
    "plt.ylabel('Portfolio Value')\n",
    "plt.title('Portfolio Value Over 10 Years')\n",
    "plt.legend(loc='upper left')\n",
    "plt.grid(True)\n",
    "\n",
    "for row in portfolios:\n",
    " \n",
    "    portfolio = {key: value for key, value in zip(row['Ticker'], row['Percent'])}\n",
    "    benchmark_indices = {key: value for key, value in zip(row['Ticker'], row['Benchmark'])}\n",
    "    # Convert percentages to proportions\n",
    "    portfolio_proportions = {ticker: percent / 100 for ticker, percent in portfolio.items()}\n",
    "\n",
    "    # Data Collection\n",
    "    tickers = list(portfolio.keys()) + list(benchmark_indices.values())\n",
    "\n",
    "    def download_data(tickers, start, end):\n",
    "        data = yf.download(tickers, start=start, end=end)['Adj Close']\n",
    "        return data\n",
    "\n",
    "    # Download data for both the funds and their benchmarks\n",
    "    data = download_data(tickers, '2011-09-22', '2021-09-21')\n",
    "\n",
    "    # Separate fund and benchmark data\n",
    "    fund_data = data[list(portfolio.keys())]\n",
    "    benchmark_data = data[list(benchmark_indices.values())]\n",
    "\n",
    "    # Backfill fund data with benchmark index data\n",
    "    for fund, benchmark in benchmark_indices.items():\n",
    "        if fund not in fund_data.columns:\n",
    "            continue\n",
    "        # Find the inception date of the fund\n",
    "        inception_date = fund_data[fund].first_valid_index()\n",
    "        if inception_date > fund_data.index[0]:\n",
    "            # Backfill with benchmark data\n",
    "            backfill_data = benchmark_data[benchmark].loc[:inception_date]\n",
    "            fund_data.loc[:inception_date, fund] = backfill_data\n",
    "\n",
    "    # Calculating cumulative returns using the correct formula\n",
    "    original_price = fund_data.iloc[0]\n",
    "    current_price = fund_data.iloc[-1]\n",
    "    cumulative_returns = (current_price - original_price) / original_price\n",
    "\n",
    "    # Initial investment\n",
    "    initial_investment = 10000\n",
    "\n",
    "    # Calculating weighted cumulative returns\n",
    "    weighted_cumulative_returns = cumulative_returns * pd.Series(portfolio_proportions)\n",
    "    total_cumulative_return = weighted_cumulative_returns.sum()\n",
    "\n",
    "    # Final value of the portfolio\n",
    "    final_value = initial_investment * (1 + total_cumulative_return)\n",
    "\n",
    "    # Print final value and final cumulative returns\n",
    "    print(f\"The value of the portfolio after 10 years is: ${final_value:.2f}\")\n",
    "    print(f\"The final cumulative return after 10 years is: {total_cumulative_return * 100:.2f}%\")\n",
    "\n",
    "    # Calculating portfolio value over time for visualization\n",
    "    weighted_data = fund_data * pd.Series(portfolio_proportions)\n",
    "    portfolio_value = initial_investment * (weighted_data.sum(axis=1) / weighted_data.sum(axis=1).iloc[0])\n",
    "\n",
    "    plt.plot(portfolio_value.index, portfolio_value, label='Portfolio')\n",
    "\n",
    "\n",
    "\n",
    "# Show the plot\n",
    "plt.show()\n"
   ]
  },
  {
   "cell_type": "markdown",
   "metadata": {},
   "source": [
    "I would argue part of having a fiduciary duty to a client is explaining the true meaning behind the chart above. Some people might take credit for being an amazing portfolio builder (like me! HA-HA) that allows them to get such high returns. The reality is the client portfolio had so much cash that wasn't generating returns, ANY portfolio that didn't have such a large cash portion would have done better. Throwing darts at a board to pick funds at random would have done better than the client portfolio (I have tested this out and proved it).\n",
    "\n",
    "What the chart does illustrate is having a lot of money in cash is going to generate lower returns."
   ]
  },
  {
   "cell_type": "markdown",
   "metadata": {},
   "source": [
    "# Conclusion\n",
    "\n",
    "Every brokerage has software that can do this at a push of a button (or two). It's important to understand what's going on. Financial planning will always require personalization. There are simply too many variables (and emotion!) involved in making a plan. Whether someone is using Kwanti, Portfolio Visualizer, BlackRock's UI, a scientific calculator, Python, or R, the results all have to be verified to uphold a fiduciary duty.\n",
    "\n",
    "Some people want to DIY, but I doubt they would have been able to recognize a portfolio that had Facebook in four different funds.\n",
    "\n",
    "1. Determine the goals\n",
    "2. Determine the risk\n",
    "3. Work backwards to figure out what to buy/sell/leave alone.\n"
   ]
  }
 ],
 "metadata": {
  "kernelspec": {
   "display_name": "Python312DS",
   "language": "python",
   "name": "python3"
  },
  "language_info": {
   "codemirror_mode": {
    "name": "ipython",
    "version": 3
   },
   "file_extension": ".py",
   "mimetype": "text/x-python",
   "name": "python",
   "nbconvert_exporter": "python",
   "pygments_lexer": "ipython3",
   "version": "3.12.4"
  }
 },
 "nbformat": 4,
 "nbformat_minor": 2
}
